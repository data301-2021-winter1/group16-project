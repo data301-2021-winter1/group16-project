{
 "cells": [
  {
   "cell_type": "markdown",
   "metadata": {},
   "source": [
    "# Johan Knarreborg - Analysis"
   ]
  },
  {
   "cell_type": "markdown",
   "metadata": {},
   "source": [
    "Noter: \n",
    "\n",
    "styr på hvilke kører der tages med. Drivers2 osv. Måske bare slette kørere med under 40 ræs til sidst...? \n"
   ]
  },
  {
   "cell_type": "markdown",
   "metadata": {},
   "source": [
    "## Formula One - 50 years of racing but who has been the best driver..?\n",
    "\n",
    "Is the best driver the one that has scored the most points? Has won the most races? Or the one to go fastest around the most tracks? \n",
    "Over the years formula one cars has evolved. New tracks has come and gone and the point system has changed. This makes it difficult to compare these question directly between all of the drivers. In this analysis we will try to seperate the drivers performance from the cars performance, the specific track and other variables not related to the drivers performance. \n",
    "\n",
    "Things we will be looking at are: \n",
    "\n",
    "- Most average points scored per race \n",
    "\n",
    "- Average finish position \n",
    "\n",
    "- Best at getting pole position \n",
    "\n",
    "- Least crashes per race \n",
    "\n",
    "- Best Performance compared to team mate \n",
    "\n",
    "- Most races  \n",
    "\n",
    "\n",
    "For each of these parameters we will give the top ten drivers a score from 10 to 1. We will then be able to sum these scores and see who is the overall best driver. \n",
    "\n",
    "Since drivers who has only participated in few races would be able to score well in some of these parameters, we will only look at drivers who has participated in more than 40 races, which is around two seasons.\n"
   ]
  },
  {
   "cell_type": "code",
   "execution_count": 1,
   "metadata": {},
   "outputs": [],
   "source": [
    "#Importing libraries \n",
    "import pandas as pd \n",
    "import matplotlib.pyplot as plt \n",
    "import numpy as np\n",
    "from analysis1_pipeline import pipeline\n",
    "from datetime import datetime \n",
    "\n",
    "#running my pipeline function\n",
    "pipeline(\"../data/raw/\",\"../data/processed/Johan_Processed/\")\n",
    "\n",
    "#Importing the raw data and substituing the '\\N' values for NaN. \n",
    "circuits = pd.read_csv(\"../data/processed/Johan_Processed/circuits.csv\")\n",
    "drivers = pd.read_csv(\"../data/processed/Johan_Processed/drivers.csv\")\n",
    "results = pd.read_csv(\"../data/processed/Johan_Processed/results.csv\")\n",
    "seasons = pd.read_csv(\"../data/processed/Johan_Processed/seasons.csv\")\n",
    "status = pd.read_csv(\"../data/processed/Johan_Processed/status.csv\")\n",
    "lap_times = pd.read_csv(\"../data/processed/Johan_Processed/lap_times.csv\")\n",
    "pit_stops = pd.read_csv(\"../data/processed/Johan_Processed/pit_stops.csv\")\n",
    "qualifying = pd.read_csv(\"../data/processed/Johan_Processed/qualifying.csv\")\n",
    "races = pd.read_csv(\"../data/processed/Johan_Processed/races.csv\")\n",
    "constructors = pd.read_csv(\"../data/processed/Johan_Processed/constructors.csv\")\n",
    "constructor_results = pd.read_csv(\"../data/processed/Johan_Processed/constructor_results.csv\")\n",
    "constructor_standings = pd.read_csv(\"../data/processed/Johan_Processed/constructor_standings.csv\")\n",
    "driver_standings = pd.read_csv(\"../data/processed/Johan_Processed/driver_standings.csv\")\n",
    "results_races =    pd.read_csv(\"../data/processed/Johan_Processed/results_races.csv\") \n",
    "\n",
    "#before 2010 a maximum of 10 points were awarded to the winner and after it has been 25.\n",
    "#To normalize the points in a quick way we multiply all points before 2010 with 2.5.\n",
    "\n",
    "#adding refs to results_races \n",
    "results_races = pd.merge(results_races,drivers, on = \"driverId\", how = \"left\")\n",
    "\n",
    "#normalize this to the maximum nuber of point given each year.\n",
    "results_races.loc[results_races[\"year\"]<2010, \"points\"]=results_races[\"points\"]*2.5\n",
    "\n",
    "#making the scoreboard for the individual drivers: \n",
    "overall_driver = drivers[[\"driverId\",\"driverRef\"]].copy() \n",
    "overall_driver[\"points\"] =0 \n"
   ]
  },
  {
   "cell_type": "code",
   "execution_count": 2,
   "metadata": {},
   "outputs": [],
   "source": [
    "drivers2 = results_races[[\"driverId\"]].copy()\n",
    "drivers2 = drivers2.groupby(\"driverId\").size().reset_index(name=\"size\")\n",
    "drivers2 = drivers2.drop(drivers2[drivers2[\"size\"] < 40 ].index)"
   ]
  },
  {
   "cell_type": "markdown",
   "metadata": {},
   "source": [
    "### A first look at differences between drivers\n",
    "To get some insights into how much of a difference there is between the drivers we will look at how much difference there is between the amount of point that drivers score. \n"
   ]
  },
  {
   "cell_type": "code",
   "execution_count": 3,
   "metadata": {},
   "outputs": [
    {
     "name": "stdout",
     "output_type": "stream",
     "text": [
      "Total amount of drivers that have driven in formula one is: 177\n",
      "\n",
      "The amount of drivers that have scored more than zero points are: 173\n",
      "\n",
      "Variance for average amount of points scored is: 8.534527512952016\n",
      "\n",
      "A boxplot of the average points scored by each diver: \n"
     ]
    },
    {
     "data": {
      "image/png": "[encoded data removed]",
      "text/plain": [
       "<Figure size 432x288 with 1 Axes>"
      ]
     },
     "metadata": {
      "needs_background": "light"
     },
     "output_type": "display_data"
    }
   ],
   "source": [
    "#Looking at the variance between the average amount of points scored per race for each driver and showing a boxplot. \n",
    "avg_point=pd.DataFrame(columns=[\"avg_point\",\"driverId\"])\n",
    "b=0\n",
    "for i in drivers2[\"driverId\"]:\n",
    "    driver_points = results_races[results_races[\"driverId\"]==i]\n",
    "    avg_point.loc[b]=[driver_points[\"points\"].mean(),i]\n",
    "    b = b+1\n",
    "box_plot = pd.DataFrame(avg_point[\"avg_point\"]).boxplot()\n",
    "xlabel=\"\"\n",
    "print(\"Total amount of drivers that have driven in formula one is:\",len(avg_point))\n",
    "print(\"\")\n",
    "print(\"The amount of drivers that have scored more than zero points are:\",len(avg_point[avg_point[\"avg_point\"]!=0]))\n",
    "print(\"\")\n",
    "print(\"Variance for average amount of points scored is:\", avg_point[\"avg_point\"].var())\n",
    "print(\"\")\n",
    "print(\"A boxplot of the average points scored by each diver: \")"
   ]
  },
  {
   "cell_type": "markdown",
   "metadata": {},
   "source": [
    "This variance shows that there is a relatively large spread in the average amount of points scored by the drivers in formula one.\n",
    "\n",
    "In the boxplot it is clear that the vast majority of drivers score few points. And that few drivers out of the 853 drivers have scored a large amount of points on average. However it is hard too see exactly how many. Therefore, we do a boxplot of the drivers who have scored more than 1 point on average. "
   ]
  },
  {
   "cell_type": "code",
   "execution_count": 4,
   "metadata": {},
   "outputs": [
    {
     "data": {
      "image/png": "[encoded data removed]",
      "text/plain": [
       "<Figure size 432x288 with 1 Axes>"
      ]
     },
     "metadata": {
      "needs_background": "light"
     },
     "output_type": "display_data"
    }
   ],
   "source": [
    "#doing a boxplot for all drivers who has scored more than 0 point on average\n",
    "box_plot2 = pd.DataFrame(avg_point[\"avg_point\"][avg_point[\"avg_point\"]>1]).boxplot()"
   ]
  },
  {
   "cell_type": "markdown",
   "metadata": {},
   "source": [
    "We now see that only a handfull of people are outliers in this boxplot, with one driver domininating the others with more than 15 points on average. "
   ]
  },
  {
   "cell_type": "code",
   "execution_count": 5,
   "metadata": {},
   "outputs": [
    {
     "data": {
      "text/html": [
       "<div>\n",
       "<style scoped>\n",
       "    .dataframe tbody tr th:only-of-type {\n",
       "        vertical-align: middle;\n",
       "    }\n",
       "\n",
       "    .dataframe tbody tr th {\n",
       "        vertical-align: top;\n",
       "    }\n",
       "\n",
       "    .dataframe thead th {\n",
       "        text-align: right;\n",
       "    }\n",
       "</style>\n",
       "<table border=\"1\" class=\"dataframe\">\n",
       "  <thead>\n",
       "    <tr style=\"text-align: right;\">\n",
       "      <th></th>\n",
       "      <th>avg_point</th>\n",
       "      <th>driverId</th>\n",
       "      <th>driverRef</th>\n",
       "    </tr>\n",
       "  </thead>\n",
       "  <tbody>\n",
       "    <tr>\n",
       "      <th>0</th>\n",
       "      <td>15.68</td>\n",
       "      <td>1.0</td>\n",
       "      <td>hamilton</td>\n",
       "    </tr>\n",
       "  </tbody>\n",
       "</table>\n",
       "</div>"
      ],
      "text/plain": [
       "   avg_point  driverId driverRef\n",
       "0      15.68       1.0  hamilton"
      ]
     },
     "execution_count": 5,
     "metadata": {},
     "output_type": "execute_result"
    }
   ],
   "source": [
    "top_driver = pd.merge(avg_point,drivers[[\"driverId\",\"driverRef\"]],on=\"driverId\",how=\"left\").sort_values(by=\"avg_point\",ascending = False)\n",
    "top_driver.head(1)"
   ]
  },
  {
   "cell_type": "markdown",
   "metadata": {},
   "source": [
    "The driver that scored the most points on average is Lewis Hamilton who is driving for mercedes. \n",
    "Lets see who the top ten drivers on this parameter are: "
   ]
  },
  {
   "cell_type": "code",
   "execution_count": 6,
   "metadata": {},
   "outputs": [
    {
     "data": {
      "text/html": [
       "<div>\n",
       "<style scoped>\n",
       "    .dataframe tbody tr th:only-of-type {\n",
       "        vertical-align: middle;\n",
       "    }\n",
       "\n",
       "    .dataframe tbody tr th {\n",
       "        vertical-align: top;\n",
       "    }\n",
       "\n",
       "    .dataframe thead th {\n",
       "        text-align: right;\n",
       "    }\n",
       "</style>\n",
       "<table border=\"1\" class=\"dataframe\">\n",
       "  <thead>\n",
       "    <tr style=\"text-align: right;\">\n",
       "      <th></th>\n",
       "      <th>avg_point</th>\n",
       "      <th>driverId</th>\n",
       "      <th>driverRef</th>\n",
       "    </tr>\n",
       "  </thead>\n",
       "  <tbody>\n",
       "    <tr>\n",
       "      <th>0</th>\n",
       "      <td>15.680000</td>\n",
       "      <td>1.0</td>\n",
       "      <td>hamilton</td>\n",
       "    </tr>\n",
       "    <tr>\n",
       "      <th>15</th>\n",
       "      <td>12.117978</td>\n",
       "      <td>20.0</td>\n",
       "      <td>vettel</td>\n",
       "    </tr>\n",
       "    <tr>\n",
       "      <th>152</th>\n",
       "      <td>12.031897</td>\n",
       "      <td>579.0</td>\n",
       "      <td>fangio</td>\n",
       "    </tr>\n",
       "    <tr>\n",
       "      <th>22</th>\n",
       "      <td>11.751623</td>\n",
       "      <td>30.0</td>\n",
       "      <td>michael_schumacher</td>\n",
       "    </tr>\n",
       "    <tr>\n",
       "      <th>166</th>\n",
       "      <td>10.500000</td>\n",
       "      <td>830.0</td>\n",
       "      <td>max_verstappen</td>\n",
       "    </tr>\n",
       "    <tr>\n",
       "      <th>63</th>\n",
       "      <td>9.882426</td>\n",
       "      <td>117.0</td>\n",
       "      <td>prost</td>\n",
       "    </tr>\n",
       "    <tr>\n",
       "      <th>162</th>\n",
       "      <td>9.662651</td>\n",
       "      <td>822.0</td>\n",
       "      <td>bottas</td>\n",
       "    </tr>\n",
       "    <tr>\n",
       "      <th>55</th>\n",
       "      <td>9.475309</td>\n",
       "      <td>102.0</td>\n",
       "      <td>senna</td>\n",
       "    </tr>\n",
       "    <tr>\n",
       "      <th>139</th>\n",
       "      <td>9.383562</td>\n",
       "      <td>373.0</td>\n",
       "      <td>clark</td>\n",
       "    </tr>\n",
       "    <tr>\n",
       "      <th>130</th>\n",
       "      <td>9.000000</td>\n",
       "      <td>328.0</td>\n",
       "      <td>stewart</td>\n",
       "    </tr>\n",
       "  </tbody>\n",
       "</table>\n",
       "</div>"
      ],
      "text/plain": [
       "     avg_point  driverId           driverRef\n",
       "0    15.680000       1.0            hamilton\n",
       "15   12.117978      20.0              vettel\n",
       "152  12.031897     579.0              fangio\n",
       "22   11.751623      30.0  michael_schumacher\n",
       "166  10.500000     830.0      max_verstappen\n",
       "63    9.882426     117.0               prost\n",
       "162   9.662651     822.0              bottas\n",
       "55    9.475309     102.0               senna\n",
       "139   9.383562     373.0               clark\n",
       "130   9.000000     328.0             stewart"
      ]
     },
     "execution_count": 6,
     "metadata": {},
     "output_type": "execute_result"
    }
   ],
   "source": [
    "top_driver.head(10)"
   ]
  },
  {
   "cell_type": "code",
   "execution_count": 7,
   "metadata": {},
   "outputs": [],
   "source": [
    "#giving the top ten drivers of this parameter points from 1-10. \n",
    "p = 10\n",
    "for i in top_driver[\"driverId\"][0:10]: \n",
    "    overall_driver.loc[overall_driver[\"driverId\"]==i,\"points\"]=  overall_driver.loc[overall_driver[\"driverId\"]==i,\"points\"] +p \n",
    "    p = p-1 "
   ]
  },
  {
   "cell_type": "markdown",
   "metadata": {},
   "source": [
    "\n",
    "---\n",
    "\n",
    "#### Average finish position for each driver\n",
    "Another way to normalize this is to look at the average finishing position of each driver. "
   ]
  },
  {
   "cell_type": "code",
   "execution_count": 19,
   "metadata": {},
   "outputs": [
    {
     "data": {
      "image/png": "[encoded data removed]",
      "text/plain": [
       "<Figure size 432x288 with 1 Axes>"
      ]
     },
     "metadata": {
      "needs_background": "light"
     },
     "output_type": "display_data"
    }
   ],
   "source": [
    "driver_finish = results_races[[\"driverId\",\"driverRef\",\"positionOrder\"]].copy() \n",
    "driver_finish_mean = driver_finish.groupby(\"driverId\").mean().reset_index()\n",
    "driver_finish_mean = pd.merge(driver_finish_mean,drivers[[\"driverId\",\"driverRef\"]], on=\"driverId\",how=\"left\").sort_values(by=\"positionOrder\",ascending=True)\n",
    "#driver_finish_mean.head(10)\n",
    "ax2 = driver_finish_mean[0:10].plot.bar(x=\"driverRef\",y=\"positionOrder\")"
   ]
  },
  {
   "cell_type": "code",
   "execution_count": 9,
   "metadata": {},
   "outputs": [],
   "source": [
    "#giving the top ten drivers of this parameter points from 1-10. \n",
    "p = 10\n",
    "for i in driver_finish_mean[\"driverId\"][0:10]: \n",
    "    overall_driver.loc[overall_driver[\"driverId\"]==i,\"points\"]=  overall_driver.loc[overall_driver[\"driverId\"]==i,\"points\"] +p \n",
    "    p = p-1 "
   ]
  },
  {
   "cell_type": "markdown",
   "metadata": {},
   "source": [
    "Here we see that this favours driver from ealier seasons. \n"
   ]
  },
  {
   "cell_type": "markdown",
   "metadata": {},
   "source": [
    "---\n",
    "\n",
    "### Who is the best driver during qualifying\n",
    "\n",
    "To get pole position you need to set the fastest lap around the track during qualifying. "
   ]
  },
  {
   "cell_type": "code",
   "execution_count": 10,
   "metadata": {
    "scrolled": true
   },
   "outputs": [
    {
     "data": {
      "text/html": [
       "<div>\n",
       "<style scoped>\n",
       "    .dataframe tbody tr th:only-of-type {\n",
       "        vertical-align: middle;\n",
       "    }\n",
       "\n",
       "    .dataframe tbody tr th {\n",
       "        vertical-align: top;\n",
       "    }\n",
       "\n",
       "    .dataframe thead th {\n",
       "        text-align: right;\n",
       "    }\n",
       "</style>\n",
       "<table border=\"1\" class=\"dataframe\">\n",
       "  <thead>\n",
       "    <tr style=\"text-align: right;\">\n",
       "      <th></th>\n",
       "      <th>driverId</th>\n",
       "      <th>position</th>\n",
       "    </tr>\n",
       "  </thead>\n",
       "  <tbody>\n",
       "    <tr>\n",
       "      <th>99</th>\n",
       "      <td>102</td>\n",
       "      <td>1.000000</td>\n",
       "    </tr>\n",
       "    <tr>\n",
       "      <th>0</th>\n",
       "      <td>1</td>\n",
       "      <td>3.425455</td>\n",
       "    </tr>\n",
       "    <tr>\n",
       "      <th>92</th>\n",
       "      <td>95</td>\n",
       "      <td>4.833333</td>\n",
       "    </tr>\n",
       "    <tr>\n",
       "      <th>19</th>\n",
       "      <td>20</td>\n",
       "      <td>5.372180</td>\n",
       "    </tr>\n",
       "    <tr>\n",
       "      <th>69</th>\n",
       "      <td>71</td>\n",
       "      <td>5.372881</td>\n",
       "    </tr>\n",
       "    <tr>\n",
       "      <th>29</th>\n",
       "      <td>30</td>\n",
       "      <td>5.666667</td>\n",
       "    </tr>\n",
       "    <tr>\n",
       "      <th>75</th>\n",
       "      <td>77</td>\n",
       "      <td>5.760870</td>\n",
       "    </tr>\n",
       "    <tr>\n",
       "      <th>131</th>\n",
       "      <td>822</td>\n",
       "      <td>5.819277</td>\n",
       "    </tr>\n",
       "    <tr>\n",
       "      <th>139</th>\n",
       "      <td>830</td>\n",
       "      <td>5.859375</td>\n",
       "    </tr>\n",
       "    <tr>\n",
       "      <th>30</th>\n",
       "      <td>31</td>\n",
       "      <td>6.031250</td>\n",
       "    </tr>\n",
       "  </tbody>\n",
       "</table>\n",
       "</div>"
      ],
      "text/plain": [
       "     driverId  position\n",
       "99        102  1.000000\n",
       "0           1  3.425455\n",
       "92         95  4.833333\n",
       "19         20  5.372180\n",
       "69         71  5.372881\n",
       "29         30  5.666667\n",
       "75         77  5.760870\n",
       "131       822  5.819277\n",
       "139       830  5.859375\n",
       "30         31  6.031250"
      ]
     },
     "execution_count": 10,
     "metadata": {},
     "output_type": "execute_result"
    }
   ],
   "source": [
    "\n",
    "quali_driver = qualifying.copy()\n",
    "quali_driver_mean = quali_driver.groupby(\"driverId\").mean().reset_index()[[\"driverId\",\"position\"]]\n",
    "quali_driver_mean = quali_driver_mean.sort_values(by=\"position\",ascending = True)\n",
    "quali_driver_mean.head(10)"
   ]
  },
  {
   "cell_type": "code",
   "execution_count": 11,
   "metadata": {},
   "outputs": [],
   "source": [
    "#giving the top ten drivers of this parameter points from 1-10. \n",
    "p = 10\n",
    "for i in quali_driver_mean[\"driverId\"][0:10]: \n",
    "    overall_driver.loc[overall_driver[\"driverId\"]==i,\"points\"]=  overall_driver.loc[overall_driver[\"driverId\"]==i,\"points\"] +p \n",
    "    p = p-1 \n",
    "\n"
   ]
  },
  {
   "cell_type": "markdown",
   "metadata": {},
   "source": [
    "---\n",
    "\n",
    "### Who is better at finishing? \n",
    "When driving one of your goals is to not crash and arrive to your destination. While the same cannot be directly tranferred to racing it is a factor we could take a look at. \n",
    "\n",
    "We will see who finish the largest amount of the races that they participate in. \n",
    "It should be noted that this favours more recent drivers since the cars has become more reliable. "
   ]
  },
  {
   "cell_type": "code",
   "execution_count": 12,
   "metadata": {},
   "outputs": [
    {
     "data": {
      "image/png": "[encoded data removed]",
      "text/plain": [
       "<Figure size 432x288 with 1 Axes>"
      ]
     },
     "metadata": {
      "needs_background": "light"
     },
     "output_type": "display_data"
    }
   ],
   "source": [
    "driver_crash = drivers[[\"driverId\",\"driverRef\"]].copy()\n",
    "driver_crash[\"crashRatio\"]=100 \n",
    "\n",
    "for i in drivers2[\"driverId\"]: \n",
    "    if np.size(results_races[\"positionText\"][results_races[\"driverId\"]==i])>15: \n",
    "        crashRatio = np.size(results_races[\"positionText\"][results_races[\"driverId\"]==i][results_races[\"positionText\"]==\"R\"])/np.size(results_races[\"positionText\"][results_races[\"driverId\"]==i])\n",
    "        driver_crash.loc[driver_crash[\"driverId\"]==i,\"crashRatio\"]=crashRatio\n",
    "driver_crash = driver_crash.sort_values(by=\"crashRatio\")  \n",
    "ax = driver_crash[0:10].plot.bar(x=\"driverRef\",y=\"crashRatio\")"
   ]
  },
  {
   "cell_type": "code",
   "execution_count": 13,
   "metadata": {},
   "outputs": [],
   "source": [
    "#giving the top ten drivers of this parameter points from 1-10. \n",
    "p = 10\n",
    "for i in driver_crash[\"driverId\"][0:10]: \n",
    "    overall_driver.loc[overall_driver[\"driverId\"]==i,\"points\"]=  overall_driver.loc[overall_driver[\"driverId\"]==i,\"points\"] +p \n",
    "    p = p-1 \n"
   ]
  },
  {
   "cell_type": "markdown",
   "metadata": {},
   "source": [
    "---\n",
    "\n",
    "### Best driver compared to team mate \n",
    "Drivers has over the years been competing in pairs with almost identical cars from the same constructor. We will therefore take a look at what driver has outperformed his own team mate the most. "
   ]
  },
  {
   "cell_type": "code",
   "execution_count": 14,
   "metadata": {},
   "outputs": [
    {
     "data": {
      "text/html": [
       "<div>\n",
       "<style scoped>\n",
       "    .dataframe tbody tr th:only-of-type {\n",
       "        vertical-align: middle;\n",
       "    }\n",
       "\n",
       "    .dataframe tbody tr th {\n",
       "        vertical-align: top;\n",
       "    }\n",
       "\n",
       "    .dataframe thead th {\n",
       "        text-align: right;\n",
       "    }\n",
       "</style>\n",
       "<table border=\"1\" class=\"dataframe\">\n",
       "  <thead>\n",
       "    <tr style=\"text-align: right;\">\n",
       "      <th></th>\n",
       "      <th>driverId</th>\n",
       "      <th>overTeammate</th>\n",
       "      <th>underTeammate</th>\n",
       "      <th>ratio</th>\n",
       "    </tr>\n",
       "  </thead>\n",
       "  <tbody>\n",
       "    <tr>\n",
       "      <th>3</th>\n",
       "      <td>4.0</td>\n",
       "      <td>222</td>\n",
       "      <td>101</td>\n",
       "      <td>2.198020</td>\n",
       "    </tr>\n",
       "    <tr>\n",
       "      <th>55</th>\n",
       "      <td>102.0</td>\n",
       "      <td>108</td>\n",
       "      <td>54</td>\n",
       "      <td>2.000000</td>\n",
       "    </tr>\n",
       "    <tr>\n",
       "      <th>166</th>\n",
       "      <td>830.0</td>\n",
       "      <td>83</td>\n",
       "      <td>45</td>\n",
       "      <td>1.844444</td>\n",
       "    </tr>\n",
       "    <tr>\n",
       "      <th>22</th>\n",
       "      <td>30.0</td>\n",
       "      <td>198</td>\n",
       "      <td>110</td>\n",
       "      <td>1.800000</td>\n",
       "    </tr>\n",
       "    <tr>\n",
       "      <th>15</th>\n",
       "      <td>20.0</td>\n",
       "      <td>168</td>\n",
       "      <td>99</td>\n",
       "      <td>1.696970</td>\n",
       "    </tr>\n",
       "    <tr>\n",
       "      <th>0</th>\n",
       "      <td>1.0</td>\n",
       "      <td>171</td>\n",
       "      <td>104</td>\n",
       "      <td>1.644231</td>\n",
       "    </tr>\n",
       "    <tr>\n",
       "      <th>63</th>\n",
       "      <td>117.0</td>\n",
       "      <td>124</td>\n",
       "      <td>78</td>\n",
       "      <td>1.589744</td>\n",
       "    </tr>\n",
       "    <tr>\n",
       "      <th>152</th>\n",
       "      <td>579.0</td>\n",
       "      <td>35</td>\n",
       "      <td>23</td>\n",
       "      <td>1.521739</td>\n",
       "    </tr>\n",
       "    <tr>\n",
       "      <th>130</th>\n",
       "      <td>328.0</td>\n",
       "      <td>59</td>\n",
       "      <td>41</td>\n",
       "      <td>1.439024</td>\n",
       "    </tr>\n",
       "    <tr>\n",
       "      <th>139</th>\n",
       "      <td>373.0</td>\n",
       "      <td>43</td>\n",
       "      <td>30</td>\n",
       "      <td>1.433333</td>\n",
       "    </tr>\n",
       "  </tbody>\n",
       "</table>\n",
       "</div>"
      ],
      "text/plain": [
       "     driverId  overTeammate  underTeammate     ratio\n",
       "3         4.0           222            101  2.198020\n",
       "55      102.0           108             54  2.000000\n",
       "166     830.0            83             45  1.844444\n",
       "22       30.0           198            110  1.800000\n",
       "15       20.0           168             99  1.696970\n",
       "0         1.0           171            104  1.644231\n",
       "63      117.0           124             78  1.589744\n",
       "152     579.0            35             23  1.521739\n",
       "130     328.0            59             41  1.439024\n",
       "139     373.0            43             30  1.433333"
      ]
     },
     "execution_count": 14,
     "metadata": {},
     "output_type": "execute_result"
    },
    {
     "data": {
      "image/png": "[encoded data removed]",
      "text/plain": [
       "<Figure size 432x288 with 1 Axes>"
      ]
     },
     "metadata": {
      "needs_background": "light"
     },
     "output_type": "display_data"
    }
   ],
   "source": [
    "driver_ratio = pd.DataFrame(columns=[\"driverId\"])\n",
    "driver_ratio[\"driverId\"] =top_driver[\"driverId\"].copy()\n",
    "driver_ratio[\"overTeammate\"]=0\n",
    "driver_ratio[\"underTeammate\"]=0\n",
    "\n",
    "\n",
    "for i in top_driver[\"driverId\"][0:20]: \n",
    "    over = 0 \n",
    "    under = 0\n",
    "    for b in results_races[\"raceId\"][results_races[\"driverId\"]==i]: \n",
    "        constructor = results_races[results_races[\"raceId\"]==b]\n",
    "        constructor= list(constructor.loc[results_races[\"driverId\"]==i,\"constructorId\"])[0]\n",
    "        position = results_races[results_races[\"raceId\"]==b]\n",
    "        position = position.loc(axis=0)[results_races[\"constructorId\"]==constructor].sort_values(by=\"positionOrder\",ascending=True)\n",
    "        if list(position[\"driverId\"])[0]==i: \n",
    "            over = over+1\n",
    "        else: \n",
    "            under = under +1 \n",
    "        driver_ratio[driver_ratio[\"driverId\"]==i]=[i,over,under]\n",
    "\n",
    "driver_ratio[\"ratio\"]=driver_ratio[\"overTeammate\"]/driver_ratio[\"underTeammate\"]\n",
    "driver_ratio = driver_ratio.sort_values(by=\"ratio\",ascending = False)\n",
    "ax = driver_ratio[0:10].plot.bar(x=\"driverId\",y=\"ratio\")\n",
    "driver_ratio.head(10)"
   ]
  },
  {
   "cell_type": "code",
   "execution_count": 15,
   "metadata": {},
   "outputs": [],
   "source": [
    "#giving the top ten drivers of this parameter points from 1-10. \n",
    "p = 10\n",
    "for i in driver_ratio[\"driverId\"][0:10]: \n",
    "    overall_driver.loc[overall_driver[\"driverId\"]==i,\"points\"]=  overall_driver.loc[overall_driver[\"driverId\"]==i,\"points\"] +p \n",
    "    p = p-1 \n"
   ]
  },
  {
   "cell_type": "markdown",
   "metadata": {},
   "source": [
    "--- \n",
    "\n",
    "### Most races \n",
    "\n",
    "One thing is being a good at driving a race car. However, you also need to be good at finding team and staying on that team. We will therefore look at who has been in the most races. \n"
   ]
  },
  {
   "cell_type": "code",
   "execution_count": 16,
   "metadata": {},
   "outputs": [
    {
     "data": {
      "text/html": [
       "<div>\n",
       "<style scoped>\n",
       "    .dataframe tbody tr th:only-of-type {\n",
       "        vertical-align: middle;\n",
       "    }\n",
       "\n",
       "    .dataframe tbody tr th {\n",
       "        vertical-align: top;\n",
       "    }\n",
       "\n",
       "    .dataframe thead th {\n",
       "        text-align: right;\n",
       "    }\n",
       "</style>\n",
       "<table border=\"1\" class=\"dataframe\">\n",
       "  <thead>\n",
       "    <tr style=\"text-align: right;\">\n",
       "      <th></th>\n",
       "      <th>driverId</th>\n",
       "      <th>0</th>\n",
       "      <th>driverRef</th>\n",
       "    </tr>\n",
       "  </thead>\n",
       "  <tbody>\n",
       "    <tr>\n",
       "      <th>0</th>\n",
       "      <td>8</td>\n",
       "      <td>341</td>\n",
       "      <td>raikkonen</td>\n",
       "    </tr>\n",
       "    <tr>\n",
       "      <th>1</th>\n",
       "      <td>22</td>\n",
       "      <td>326</td>\n",
       "      <td>barrichello</td>\n",
       "    </tr>\n",
       "    <tr>\n",
       "      <th>2</th>\n",
       "      <td>4</td>\n",
       "      <td>323</td>\n",
       "      <td>alonso</td>\n",
       "    </tr>\n",
       "    <tr>\n",
       "      <th>3</th>\n",
       "      <td>18</td>\n",
       "      <td>309</td>\n",
       "      <td>button</td>\n",
       "    </tr>\n",
       "    <tr>\n",
       "      <th>4</th>\n",
       "      <td>30</td>\n",
       "      <td>308</td>\n",
       "      <td>michael_schumacher</td>\n",
       "    </tr>\n",
       "    <tr>\n",
       "      <th>5</th>\n",
       "      <td>1</td>\n",
       "      <td>275</td>\n",
       "      <td>hamilton</td>\n",
       "    </tr>\n",
       "    <tr>\n",
       "      <th>6</th>\n",
       "      <td>13</td>\n",
       "      <td>271</td>\n",
       "      <td>massa</td>\n",
       "    </tr>\n",
       "    <tr>\n",
       "      <th>7</th>\n",
       "      <td>20</td>\n",
       "      <td>267</td>\n",
       "      <td>vettel</td>\n",
       "    </tr>\n",
       "    <tr>\n",
       "      <th>8</th>\n",
       "      <td>119</td>\n",
       "      <td>257</td>\n",
       "      <td>patrese</td>\n",
       "    </tr>\n",
       "    <tr>\n",
       "      <th>9</th>\n",
       "      <td>15</td>\n",
       "      <td>256</td>\n",
       "      <td>trulli</td>\n",
       "    </tr>\n",
       "  </tbody>\n",
       "</table>\n",
       "</div>"
      ],
      "text/plain": [
       "   driverId    0           driverRef\n",
       "0         8  341           raikkonen\n",
       "1        22  326         barrichello\n",
       "2         4  323              alonso\n",
       "3        18  309              button\n",
       "4        30  308  michael_schumacher\n",
       "5         1  275            hamilton\n",
       "6        13  271               massa\n",
       "7        20  267              vettel\n",
       "8       119  257             patrese\n",
       "9        15  256              trulli"
      ]
     },
     "execution_count": 16,
     "metadata": {},
     "output_type": "execute_result"
    }
   ],
   "source": [
    "driver_races = results_races[[\"driverId\"]].copy()\n",
    "driver_races = driver_races.groupby(\"driverId\").size().reset_index().sort_values(by=0,ascending=False)\n",
    "driver_races = pd.merge(driver_races,drivers[[\"driverId\",\"driverRef\"]], on=\"driverId\",how=\"left\")\n",
    "driver_races.head(10)"
   ]
  },
  {
   "cell_type": "code",
   "execution_count": 17,
   "metadata": {},
   "outputs": [],
   "source": [
    "#giving the top ten drivers of this parameter points from 1-10. \n",
    "p = 10\n",
    "for i in driver_races[\"driverId\"][0:10]: \n",
    "    overall_driver.loc[overall_driver[\"driverId\"]==i,\"points\"]=  overall_driver.loc[overall_driver[\"driverId\"]==i,\"points\"] +p \n",
    "    p = p-1 "
   ]
  },
  {
   "cell_type": "markdown",
   "metadata": {},
   "source": [
    "--- \n",
    "\n",
    "## The overall score is thereby: "
   ]
  },
  {
   "cell_type": "code",
   "execution_count": 18,
   "metadata": {},
   "outputs": [
    {
     "data": {
      "text/html": [
       "<div>\n",
       "<style scoped>\n",
       "    .dataframe tbody tr th:only-of-type {\n",
       "        vertical-align: middle;\n",
       "    }\n",
       "\n",
       "    .dataframe tbody tr th {\n",
       "        vertical-align: top;\n",
       "    }\n",
       "\n",
       "    .dataframe thead th {\n",
       "        text-align: right;\n",
       "    }\n",
       "</style>\n",
       "<table border=\"1\" class=\"dataframe\">\n",
       "  <thead>\n",
       "    <tr style=\"text-align: right;\">\n",
       "      <th></th>\n",
       "      <th>driverId</th>\n",
       "      <th>driverRef</th>\n",
       "      <th>points</th>\n",
       "    </tr>\n",
       "  </thead>\n",
       "  <tbody>\n",
       "    <tr>\n",
       "      <th>0</th>\n",
       "      <td>1</td>\n",
       "      <td>hamilton</td>\n",
       "      <td>45</td>\n",
       "    </tr>\n",
       "    <tr>\n",
       "      <th>19</th>\n",
       "      <td>20</td>\n",
       "      <td>vettel</td>\n",
       "      <td>29</td>\n",
       "    </tr>\n",
       "    <tr>\n",
       "      <th>29</th>\n",
       "      <td>30</td>\n",
       "      <td>michael_schumacher</td>\n",
       "      <td>25</td>\n",
       "    </tr>\n",
       "    <tr>\n",
       "      <th>101</th>\n",
       "      <td>102</td>\n",
       "      <td>senna</td>\n",
       "      <td>22</td>\n",
       "    </tr>\n",
       "    <tr>\n",
       "      <th>3</th>\n",
       "      <td>4</td>\n",
       "      <td>alonso</td>\n",
       "      <td>18</td>\n",
       "    </tr>\n",
       "    <tr>\n",
       "      <th>579</th>\n",
       "      <td>579</td>\n",
       "      <td>fangio</td>\n",
       "      <td>16</td>\n",
       "    </tr>\n",
       "    <tr>\n",
       "      <th>821</th>\n",
       "      <td>822</td>\n",
       "      <td>bottas</td>\n",
       "      <td>16</td>\n",
       "    </tr>\n",
       "    <tr>\n",
       "      <th>829</th>\n",
       "      <td>830</td>\n",
       "      <td>max_verstappen</td>\n",
       "      <td>16</td>\n",
       "    </tr>\n",
       "    <tr>\n",
       "      <th>591</th>\n",
       "      <td>591</td>\n",
       "      <td>george_amick</td>\n",
       "      <td>10</td>\n",
       "    </tr>\n",
       "    <tr>\n",
       "      <th>7</th>\n",
       "      <td>8</td>\n",
       "      <td>raikkonen</td>\n",
       "      <td>10</td>\n",
       "    </tr>\n",
       "  </tbody>\n",
       "</table>\n",
       "</div>"
      ],
      "text/plain": [
       "     driverId           driverRef  points\n",
       "0           1            hamilton      45\n",
       "19         20              vettel      29\n",
       "29         30  michael_schumacher      25\n",
       "101       102               senna      22\n",
       "3           4              alonso      18\n",
       "579       579              fangio      16\n",
       "821       822              bottas      16\n",
       "829       830      max_verstappen      16\n",
       "591       591        george_amick      10\n",
       "7           8           raikkonen      10"
      ]
     },
     "execution_count": 18,
     "metadata": {},
     "output_type": "execute_result"
    }
   ],
   "source": [
    "overall_driver = overall_driver.sort_values(by=\"points\",ascending = False)\n",
    "overall_driver.head(10)\n"
   ]
  },
  {
   "cell_type": "code",
   "execution_count": null,
   "metadata": {},
   "outputs": [],
   "source": []
  }
 ],
 "metadata": {
  "kernelspec": {
   "display_name": "Python 3",
   "language": "python",
   "name": "python3"
  },
  "language_info": {
   "codemirror_mode": {
    "name": "ipython",
    "version": 3
   },
   "file_extension": ".py",
   "mimetype": "text/x-python",
   "name": "python",
   "nbconvert_exporter": "python",
   "pygments_lexer": "ipython3",
   "version": "3.8.8"
  }
 },
 "nbformat": 4,
 "nbformat_minor": 4
}
