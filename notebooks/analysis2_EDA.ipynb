{
 "cells": [
  {
   "cell_type": "markdown",
   "metadata": {},
   "source": [
    "# Niklas Tecklenburg (88481171)"
   ]
  },
  {
   "cell_type": "markdown",
   "metadata": {},
   "source": [
    "## Research question/interests\n",
    "(To be finalized/detailed)\n",
    "I am planning to examine the dependance between the team and driver and how the importance may have switched over the last 70 seasons."
   ]
  },
  {
   "cell_type": "code",
   "execution_count": 3,
   "metadata": {},
   "outputs": [
    {
     "data": {
      "text/plain": [
       "'\\nComments to keep in mind\\n- Include Accidents, Collisions\\n- DQ\\n- Include Engine Failures\\n\\n- Are Teams repetetive good on certain tracks\\n- Examine Teams based on the reliability of there cars\\n'"
      ]
     },
     "execution_count": 3,
     "metadata": {},
     "output_type": "execute_result"
    }
   ],
   "source": [
    "'''\n",
    "Comments to keep in mind\n",
    "- Include Accidents, Collisions\n",
    "- DQ\n",
    "- Include Engine Failures\n",
    "\n",
    "- Are Teams repetetive good on certain tracks\n",
    "- Examine Teams based on the reliability of there cars\n",
    "'''"
   ]
  },
  {
   "cell_type": "code",
   "execution_count": 4,
   "metadata": {},
   "outputs": [],
   "source": [
    "import pandas as pd\n",
    "import matplotlib.pyplot as plt\n",
    "import seaborn as sns"
   ]
  },
  {
   "cell_type": "markdown",
   "metadata": {},
   "source": [
    "## Load Data"
   ]
  },
  {
   "cell_type": "code",
   "execution_count": 5,
   "metadata": {},
   "outputs": [],
   "source": [
    "circuits = pd.read_csv('../data/raw/circuits.csv', na_values=['\\\\N'])\n",
    "constructor_res = pd.read_csv('../data/raw/constructor_results.csv', na_values=['\\\\N'])\n",
    "constructor_stand = pd.read_csv('../data/raw/constructor_standings.csv', na_values=['\\\\N'])\n",
    "constructors = pd.read_csv('../data/raw/constructors.csv', na_values=['\\\\N'])\n",
    "driver_stand = pd.read_csv('../data/raw/driver_standings.csv', na_values=['\\\\N'])\n",
    "drivers = pd.read_csv('../data/raw/drivers.csv', na_values=['\\\\N'])\n",
    "lap_times = pd.read_csv('../data/raw/lap_times.csv', na_values=['\\\\N'])\n",
    "pit_stops = pd.read_csv('../data/raw/pit_stops.csv', na_values=['\\\\N'])\n",
    "qualifying = pd.read_csv('../data/raw/qualifying.csv', na_values=['\\\\N'])\n",
    "races = pd.read_csv('../data/raw/races.csv', na_values=['\\\\N'])\n",
    "results = pd.read_csv('../data/raw/results.csv', na_values=['\\\\N'])\n",
    "seasons = pd.read_csv('../data/raw/seasons.csv', na_values=['\\\\N'])\n",
    "status = pd.read_csv('../data/raw/status.csv', na_values=['\\\\N'])"
   ]
  },
  {
   "cell_type": "code",
   "execution_count": 6,
   "metadata": {},
   "outputs": [],
   "source": [
    "# Sort out, which teams to consider via results find dates of their activity or via constructor results\n",
    "# plot timeline for each team where they are ranked in the constructors rating\n",
    "# plot where drivers for team over time\n",
    "\n",
    "# find discrepancies between best times and positions maybe cars that are only good for few rounds \n",
    "# are there drivers that are only good for very few rounds\n",
    "\n",
    "# How did best times for each track evolved over time\n",
    "\n",
    "# mention that 2009 and 2010 are missing"
   ]
  },
  {
   "cell_type": "markdown",
   "metadata": {},
   "source": [
    "## Number of Drivers Winning a race per Season"
   ]
  },
  {
   "cell_type": "code",
   "execution_count": 7,
   "metadata": {},
   "outputs": [
    {
     "data": {
      "text/html": [
       "<div>\n",
       "<style scoped>\n",
       "    .dataframe tbody tr th:only-of-type {\n",
       "        vertical-align: middle;\n",
       "    }\n",
       "\n",
       "    .dataframe tbody tr th {\n",
       "        vertical-align: top;\n",
       "    }\n",
       "\n",
       "    .dataframe thead th {\n",
       "        text-align: right;\n",
       "    }\n",
       "</style>\n",
       "<table border=\"1\" class=\"dataframe\">\n",
       "  <thead>\n",
       "    <tr style=\"text-align: right;\">\n",
       "      <th></th>\n",
       "      <th>year</th>\n",
       "      <th>#ofWinners</th>\n",
       "      <th>#ofDrivers</th>\n",
       "      <th>avg_num_winners</th>\n",
       "    </tr>\n",
       "  </thead>\n",
       "  <tbody>\n",
       "    <tr>\n",
       "      <th>0</th>\n",
       "      <td>1950</td>\n",
       "      <td>3</td>\n",
       "      <td>81</td>\n",
       "      <td>0.037037</td>\n",
       "    </tr>\n",
       "    <tr>\n",
       "      <th>1</th>\n",
       "      <td>1951</td>\n",
       "      <td>6</td>\n",
       "      <td>84</td>\n",
       "      <td>0.071429</td>\n",
       "    </tr>\n",
       "    <tr>\n",
       "      <th>2</th>\n",
       "      <td>1952</td>\n",
       "      <td>3</td>\n",
       "      <td>105</td>\n",
       "      <td>0.028571</td>\n",
       "    </tr>\n",
       "    <tr>\n",
       "      <th>3</th>\n",
       "      <td>1953</td>\n",
       "      <td>5</td>\n",
       "      <td>108</td>\n",
       "      <td>0.046296</td>\n",
       "    </tr>\n",
       "    <tr>\n",
       "      <th>4</th>\n",
       "      <td>1954</td>\n",
       "      <td>4</td>\n",
       "      <td>97</td>\n",
       "      <td>0.041237</td>\n",
       "    </tr>\n",
       "    <tr>\n",
       "      <th>...</th>\n",
       "      <td>...</td>\n",
       "      <td>...</td>\n",
       "      <td>...</td>\n",
       "      <td>...</td>\n",
       "    </tr>\n",
       "    <tr>\n",
       "      <th>67</th>\n",
       "      <td>2017</td>\n",
       "      <td>5</td>\n",
       "      <td>25</td>\n",
       "      <td>0.200000</td>\n",
       "    </tr>\n",
       "    <tr>\n",
       "      <th>68</th>\n",
       "      <td>2018</td>\n",
       "      <td>5</td>\n",
       "      <td>20</td>\n",
       "      <td>0.250000</td>\n",
       "    </tr>\n",
       "    <tr>\n",
       "      <th>69</th>\n",
       "      <td>2019</td>\n",
       "      <td>5</td>\n",
       "      <td>20</td>\n",
       "      <td>0.250000</td>\n",
       "    </tr>\n",
       "    <tr>\n",
       "      <th>70</th>\n",
       "      <td>2020</td>\n",
       "      <td>5</td>\n",
       "      <td>23</td>\n",
       "      <td>0.217391</td>\n",
       "    </tr>\n",
       "    <tr>\n",
       "      <th>71</th>\n",
       "      <td>2021</td>\n",
       "      <td>3</td>\n",
       "      <td>20</td>\n",
       "      <td>0.150000</td>\n",
       "    </tr>\n",
       "  </tbody>\n",
       "</table>\n",
       "<p>72 rows × 4 columns</p>\n",
       "</div>"
      ],
      "text/plain": [
       "    year  #ofWinners  #ofDrivers  avg_num_winners\n",
       "0   1950           3          81         0.037037\n",
       "1   1951           6          84         0.071429\n",
       "2   1952           3         105         0.028571\n",
       "3   1953           5         108         0.046296\n",
       "4   1954           4          97         0.041237\n",
       "..   ...         ...         ...              ...\n",
       "67  2017           5          25         0.200000\n",
       "68  2018           5          20         0.250000\n",
       "69  2019           5          20         0.250000\n",
       "70  2020           5          23         0.217391\n",
       "71  2021           3          20         0.150000\n",
       "\n",
       "[72 rows x 4 columns]"
      ]
     },
     "execution_count": 7,
     "metadata": {},
     "output_type": "execute_result"
    }
   ],
   "source": [
    "race_years = races[['raceId', 'year']]\n",
    "df_results = results.merge(race_years, on='raceId', how='left')\n",
    "df_results_driver_count = df_results.groupby('year').nunique().reset_index()\n",
    "df_results_driver_count = df_results_driver_count[['driverId','year']]\n",
    "df_results_driver_count = df_results_driver_count.rename(columns={'driverId': '#ofDrivers'})\n",
    "race_winners = df_results[df_results['positionOrder'] == 1]\n",
    "race_winners = race_winners.groupby(['year']).nunique().reset_index()\n",
    "race_winners = race_winners[['driverId','year']]\n",
    "race_winners = race_winners.rename(columns={'driverId':'#ofWinners'})\n",
    "race_winners = race_winners.merge(df_results_driver_count, on='year', how='left')\n",
    "race_winners = race_winners[['year', '#ofWinners', '#ofDrivers']]\n",
    "race_winners['avg_num_winners'] = race_winners['#ofWinners'] / race_winners['#ofDrivers']\n",
    "race_winners"
   ]
  },
  {
   "cell_type": "code",
   "execution_count": 8,
   "metadata": {},
   "outputs": [
    {
     "data": {
      "text/plain": [
       "<AxesSubplot:xlabel='year', ylabel='#ofDrivers'>"
      ]
     },
     "execution_count": 8,
     "metadata": {},
     "output_type": "execute_result"
    },
    {
     "data": {
      "image/png": "[encoded data removed]",
      "text/plain": [
       "<Figure size 432x288 with 1 Axes>"
      ]
     },
     "metadata": {
      "needs_background": "light"
     },
     "output_type": "display_data"
    }
   ],
   "source": [
    "sns.lineplot(x=race_winners['year'],y=race_winners['#ofDrivers'])"
   ]
  },
  {
   "cell_type": "code",
   "execution_count": 9,
   "metadata": {},
   "outputs": [
    {
     "data": {
      "text/plain": [
       "<AxesSubplot:label='4946355a-40af-48b3-ac31-20381c96c30e', xlabel='year', ylabel='avg_num_winners'>"
      ]
     },
     "execution_count": 9,
     "metadata": {},
     "output_type": "execute_result"
    },
    {
     "data": {
      "image/png": "[encoded data removed]",
      "text/plain": [
       "<Figure size 432x288 with 2 Axes>"
      ]
     },
     "metadata": {
      "needs_background": "light"
     },
     "output_type": "display_data"
    }
   ],
   "source": [
    "sns.lineplot(x=race_winners['year'],y=race_winners['#ofWinners'])\n",
    "ax2 = plt.twinx()\n",
    "sns.lineplot(x=race_winners['year'],y=race_winners['avg_num_winners'], ax=ax2, color=\"r\")"
   ]
  },
  {
   "cell_type": "markdown",
   "metadata": {},
   "source": [
    "## Number of Teams winning a race per season"
   ]
  },
  {
   "cell_type": "markdown",
   "metadata": {},
   "source": [
    "## Pit Stop Times Exploration"
   ]
  },
  {
   "cell_type": "code",
   "execution_count": 274,
   "metadata": {},
   "outputs": [
    {
     "data": {
      "text/html": [
       "<div>\n",
       "<style scoped>\n",
       "    .dataframe tbody tr th:only-of-type {\n",
       "        vertical-align: middle;\n",
       "    }\n",
       "\n",
       "    .dataframe tbody tr th {\n",
       "        vertical-align: top;\n",
       "    }\n",
       "\n",
       "    .dataframe thead th {\n",
       "        text-align: right;\n",
       "    }\n",
       "</style>\n",
       "<table border=\"1\" class=\"dataframe\">\n",
       "  <thead>\n",
       "    <tr style=\"text-align: right;\">\n",
       "      <th></th>\n",
       "      <th>raceId</th>\n",
       "      <th>driverId</th>\n",
       "      <th>stop</th>\n",
       "      <th>lap</th>\n",
       "      <th>time</th>\n",
       "      <th>duration</th>\n",
       "      <th>milliseconds</th>\n",
       "    </tr>\n",
       "  </thead>\n",
       "  <tbody>\n",
       "    <tr>\n",
       "      <th>0</th>\n",
       "      <td>841</td>\n",
       "      <td>153</td>\n",
       "      <td>1</td>\n",
       "      <td>1</td>\n",
       "      <td>17:05:23</td>\n",
       "      <td>26.898</td>\n",
       "      <td>26898</td>\n",
       "    </tr>\n",
       "    <tr>\n",
       "      <th>1</th>\n",
       "      <td>841</td>\n",
       "      <td>30</td>\n",
       "      <td>1</td>\n",
       "      <td>1</td>\n",
       "      <td>17:05:52</td>\n",
       "      <td>25.021</td>\n",
       "      <td>25021</td>\n",
       "    </tr>\n",
       "    <tr>\n",
       "      <th>2</th>\n",
       "      <td>841</td>\n",
       "      <td>17</td>\n",
       "      <td>1</td>\n",
       "      <td>11</td>\n",
       "      <td>17:20:48</td>\n",
       "      <td>23.426</td>\n",
       "      <td>23426</td>\n",
       "    </tr>\n",
       "    <tr>\n",
       "      <th>3</th>\n",
       "      <td>841</td>\n",
       "      <td>4</td>\n",
       "      <td>1</td>\n",
       "      <td>12</td>\n",
       "      <td>17:22:34</td>\n",
       "      <td>23.251</td>\n",
       "      <td>23251</td>\n",
       "    </tr>\n",
       "    <tr>\n",
       "      <th>4</th>\n",
       "      <td>841</td>\n",
       "      <td>13</td>\n",
       "      <td>1</td>\n",
       "      <td>13</td>\n",
       "      <td>17:24:10</td>\n",
       "      <td>23.842</td>\n",
       "      <td>23842</td>\n",
       "    </tr>\n",
       "    <tr>\n",
       "      <th>...</th>\n",
       "      <td>...</td>\n",
       "      <td>...</td>\n",
       "      <td>...</td>\n",
       "      <td>...</td>\n",
       "      <td>...</td>\n",
       "      <td>...</td>\n",
       "      <td>...</td>\n",
       "    </tr>\n",
       "    <tr>\n",
       "      <th>8369</th>\n",
       "      <td>1060</td>\n",
       "      <td>832</td>\n",
       "      <td>1</td>\n",
       "      <td>48</td>\n",
       "      <td>16:01:07</td>\n",
       "      <td>21.431</td>\n",
       "      <td>21431</td>\n",
       "    </tr>\n",
       "    <tr>\n",
       "      <th>8370</th>\n",
       "      <td>1060</td>\n",
       "      <td>20</td>\n",
       "      <td>2</td>\n",
       "      <td>49</td>\n",
       "      <td>16:02:39</td>\n",
       "      <td>20.841</td>\n",
       "      <td>20841</td>\n",
       "    </tr>\n",
       "    <tr>\n",
       "      <th>8371</th>\n",
       "      <td>1060</td>\n",
       "      <td>852</td>\n",
       "      <td>2</td>\n",
       "      <td>51</td>\n",
       "      <td>16:04:57</td>\n",
       "      <td>26.604</td>\n",
       "      <td>26604</td>\n",
       "    </tr>\n",
       "    <tr>\n",
       "      <th>8372</th>\n",
       "      <td>1060</td>\n",
       "      <td>1</td>\n",
       "      <td>2</td>\n",
       "      <td>53</td>\n",
       "      <td>16:06:32</td>\n",
       "      <td>21.421</td>\n",
       "      <td>21421</td>\n",
       "    </tr>\n",
       "    <tr>\n",
       "      <th>8373</th>\n",
       "      <td>1060</td>\n",
       "      <td>830</td>\n",
       "      <td>2</td>\n",
       "      <td>60</td>\n",
       "      <td>16:14:03</td>\n",
       "      <td>21.236</td>\n",
       "      <td>21236</td>\n",
       "    </tr>\n",
       "  </tbody>\n",
       "</table>\n",
       "<p>8374 rows × 7 columns</p>\n",
       "</div>"
      ],
      "text/plain": [
       "      raceId  driverId  stop  lap      time duration  milliseconds\n",
       "0        841       153     1    1  17:05:23   26.898         26898\n",
       "1        841        30     1    1  17:05:52   25.021         25021\n",
       "2        841        17     1   11  17:20:48   23.426         23426\n",
       "3        841         4     1   12  17:22:34   23.251         23251\n",
       "4        841        13     1   13  17:24:10   23.842         23842\n",
       "...      ...       ...   ...  ...       ...      ...           ...\n",
       "8369    1060       832     1   48  16:01:07   21.431         21431\n",
       "8370    1060        20     2   49  16:02:39   20.841         20841\n",
       "8371    1060       852     2   51  16:04:57   26.604         26604\n",
       "8372    1060         1     2   53  16:06:32   21.421         21421\n",
       "8373    1060       830     2   60  16:14:03   21.236         21236\n",
       "\n",
       "[8374 rows x 7 columns]"
      ]
     },
     "execution_count": 274,
     "metadata": {},
     "output_type": "execute_result"
    }
   ],
   "source": [
    "pit_stops"
   ]
  },
  {
   "cell_type": "code",
   "execution_count": 2,
   "metadata": {},
   "outputs": [
    {
     "ename": "NameError",
     "evalue": "name 'pit_stops' is not defined",
     "output_type": "error",
     "traceback": [
      "\u001b[0;31m---------------------------------------------------------------------------\u001b[0m",
      "\u001b[0;31mNameError\u001b[0m                                 Traceback (most recent call last)",
      "\u001b[0;32m<ipython-input-2-ea5326422118>\u001b[0m in \u001b[0;36m<module>\u001b[0;34m\u001b[0m\n\u001b[1;32m      1\u001b[0m \u001b[0;31m# Average duration\u001b[0m\u001b[0;34m\u001b[0m\u001b[0;34m\u001b[0m\u001b[0;34m\u001b[0m\u001b[0m\n\u001b[0;32m----> 2\u001b[0;31m \u001b[0mdf_pit_stops\u001b[0m \u001b[0;34m=\u001b[0m \u001b[0mpit_stops\u001b[0m\u001b[0;34m.\u001b[0m\u001b[0mmerge\u001b[0m\u001b[0;34m(\u001b[0m\u001b[0mrace_years\u001b[0m\u001b[0;34m,\u001b[0m \u001b[0mon\u001b[0m\u001b[0;34m=\u001b[0m\u001b[0;34m'raceId'\u001b[0m\u001b[0;34m,\u001b[0m \u001b[0mhow\u001b[0m\u001b[0;34m=\u001b[0m\u001b[0;34m'left'\u001b[0m\u001b[0;34m)\u001b[0m\u001b[0;34m\u001b[0m\u001b[0;34m\u001b[0m\u001b[0m\n\u001b[0m\u001b[1;32m      3\u001b[0m \u001b[0mdf_pit_stops_duration\u001b[0m \u001b[0;34m=\u001b[0m \u001b[0mdf_pit_stops\u001b[0m\u001b[0;34m.\u001b[0m\u001b[0mgroupby\u001b[0m\u001b[0;34m(\u001b[0m\u001b[0;34m[\u001b[0m\u001b[0;34m'year'\u001b[0m\u001b[0;34m]\u001b[0m\u001b[0;34m)\u001b[0m\u001b[0;34m.\u001b[0m\u001b[0mmean\u001b[0m\u001b[0;34m(\u001b[0m\u001b[0;34m)\u001b[0m\u001b[0;34m.\u001b[0m\u001b[0mreset_index\u001b[0m\u001b[0;34m(\u001b[0m\u001b[0;34m)\u001b[0m\u001b[0;34m\u001b[0m\u001b[0;34m\u001b[0m\u001b[0m\n\u001b[1;32m      4\u001b[0m \u001b[0mdf_pit_stops_duration\u001b[0m\u001b[0;34m[\u001b[0m\u001b[0;34m'milliseconds'\u001b[0m\u001b[0;34m]\u001b[0m \u001b[0;34m=\u001b[0m \u001b[0mdf_pit_stops_duration\u001b[0m\u001b[0;34m[\u001b[0m\u001b[0;34m'milliseconds'\u001b[0m\u001b[0;34m]\u001b[0m \u001b[0;34m/\u001b[0m \u001b[0;36m1000\u001b[0m\u001b[0;34m\u001b[0m\u001b[0;34m\u001b[0m\u001b[0m\n\u001b[1;32m      5\u001b[0m \u001b[0mdf_pit_stops_duration\u001b[0m\u001b[0;34m\u001b[0m\u001b[0;34m\u001b[0m\u001b[0m\n",
      "\u001b[0;31mNameError\u001b[0m: name 'pit_stops' is not defined"
     ]
    }
   ],
   "source": [
    "# Average duration\n",
    "df_pit_stops = pit_stops.merge(race_years, on='raceId', how='left')\n",
    "df_pit_stops_duration = df_pit_stops.groupby(['year']).mean().reset_index()\n",
    "df_pit_stops_duration['milliseconds'] = df_pit_stops_duration['milliseconds'] / 1000 \n",
    "df_pit_stops_duration"
   ]
  },
  {
   "cell_type": "code",
   "execution_count": 276,
   "metadata": {},
   "outputs": [
    {
     "data": {
      "text/plain": [
       "<AxesSubplot:xlabel='year', ylabel='milliseconds'>"
      ]
     },
     "execution_count": 276,
     "metadata": {},
     "output_type": "execute_result"
    },
    {
     "data": {
      "image/png": "[encoded data removed]",
      "text/plain": [
       "<Figure size 432x288 with 1 Axes>"
      ]
     },
     "metadata": {
      "needs_background": "light"
     },
     "output_type": "display_data"
    }
   ],
   "source": [
    "sns.lineplot(x=df_pit_stops_duration['year'], y=df_pit_stops_duration['milliseconds'])"
   ]
  },
  {
   "cell_type": "markdown",
   "metadata": {},
   "source": [
    "# Why are there these "
   ]
  },
  {
   "cell_type": "code",
   "execution_count": 277,
   "metadata": {},
   "outputs": [
    {
     "data": {
      "text/html": [
       "<div>\n",
       "<style scoped>\n",
       "    .dataframe tbody tr th:only-of-type {\n",
       "        vertical-align: middle;\n",
       "    }\n",
       "\n",
       "    .dataframe tbody tr th {\n",
       "        vertical-align: top;\n",
       "    }\n",
       "\n",
       "    .dataframe thead th {\n",
       "        text-align: right;\n",
       "    }\n",
       "</style>\n",
       "<table border=\"1\" class=\"dataframe\">\n",
       "  <thead>\n",
       "    <tr style=\"text-align: right;\">\n",
       "      <th></th>\n",
       "      <th>year</th>\n",
       "      <th>raceId</th>\n",
       "      <th>driverId</th>\n",
       "      <th>stop</th>\n",
       "      <th>lap</th>\n",
       "      <th>milliseconds</th>\n",
       "      <th>avg_stops_per_race</th>\n",
       "    </tr>\n",
       "  </thead>\n",
       "  <tbody>\n",
       "    <tr>\n",
       "      <th>0</th>\n",
       "      <td>2011</td>\n",
       "      <td>849.979021</td>\n",
       "      <td>225.608392</td>\n",
       "      <td>2.596737</td>\n",
       "      <td>39.477855</td>\n",
       "      <td>27492.722611</td>\n",
       "      <td>2.596737</td>\n",
       "    </tr>\n",
       "    <tr>\n",
       "      <th>1</th>\n",
       "      <td>2012</td>\n",
       "      <td>869.442953</td>\n",
       "      <td>329.574944</td>\n",
       "      <td>2.116331</td>\n",
       "      <td>34.908277</td>\n",
       "      <td>24396.982103</td>\n",
       "      <td>2.116331</td>\n",
       "    </tr>\n",
       "    <tr>\n",
       "      <th>2</th>\n",
       "      <td>2013</td>\n",
       "      <td>889.513716</td>\n",
       "      <td>457.650873</td>\n",
       "      <td>2.371571</td>\n",
       "      <td>36.301746</td>\n",
       "      <td>26190.623441</td>\n",
       "      <td>2.371571</td>\n",
       "    </tr>\n",
       "    <tr>\n",
       "      <th>3</th>\n",
       "      <td>2014</td>\n",
       "      <td>908.917989</td>\n",
       "      <td>458.838624</td>\n",
       "      <td>2.161376</td>\n",
       "      <td>34.505291</td>\n",
       "      <td>90976.293651</td>\n",
       "      <td>2.161376</td>\n",
       "    </tr>\n",
       "    <tr>\n",
       "      <th>4</th>\n",
       "      <td>2015</td>\n",
       "      <td>935.703170</td>\n",
       "      <td>499.657061</td>\n",
       "      <td>2.135447</td>\n",
       "      <td>35.386167</td>\n",
       "      <td>27515.438040</td>\n",
       "      <td>2.135447</td>\n",
       "    </tr>\n",
       "    <tr>\n",
       "      <th>5</th>\n",
       "      <td>2016</td>\n",
       "      <td>958.048724</td>\n",
       "      <td>543.958237</td>\n",
       "      <td>2.294664</td>\n",
       "      <td>31.821346</td>\n",
       "      <td>193524.948956</td>\n",
       "      <td>2.294664</td>\n",
       "    </tr>\n",
       "    <tr>\n",
       "      <th>6</th>\n",
       "      <td>2017</td>\n",
       "      <td>978.605042</td>\n",
       "      <td>585.392157</td>\n",
       "      <td>1.943978</td>\n",
       "      <td>29.680672</td>\n",
       "      <td>88961.081232</td>\n",
       "      <td>1.943978</td>\n",
       "    </tr>\n",
       "    <tr>\n",
       "      <th>7</th>\n",
       "      <td>2018</td>\n",
       "      <td>999.057592</td>\n",
       "      <td>627.853403</td>\n",
       "      <td>1.403141</td>\n",
       "      <td>29.272251</td>\n",
       "      <td>25313.510471</td>\n",
       "      <td>1.403141</td>\n",
       "    </tr>\n",
       "    <tr>\n",
       "      <th>8</th>\n",
       "      <td>2019</td>\n",
       "      <td>1019.960880</td>\n",
       "      <td>631.921760</td>\n",
       "      <td>1.591687</td>\n",
       "      <td>30.449878</td>\n",
       "      <td>25811.205379</td>\n",
       "      <td>1.591687</td>\n",
       "    </tr>\n",
       "    <tr>\n",
       "      <th>9</th>\n",
       "      <td>2020</td>\n",
       "      <td>1039.102236</td>\n",
       "      <td>678.246006</td>\n",
       "      <td>1.897764</td>\n",
       "      <td>33.878594</td>\n",
       "      <td>235613.910543</td>\n",
       "      <td>1.897764</td>\n",
       "    </tr>\n",
       "    <tr>\n",
       "      <th>10</th>\n",
       "      <td>2021</td>\n",
       "      <td>1056.011765</td>\n",
       "      <td>667.741176</td>\n",
       "      <td>2.023529</td>\n",
       "      <td>36.323529</td>\n",
       "      <td>373202.070588</td>\n",
       "      <td>2.023529</td>\n",
       "    </tr>\n",
       "  </tbody>\n",
       "</table>\n",
       "</div>"
      ],
      "text/plain": [
       "    year       raceId    driverId      stop        lap   milliseconds  \\\n",
       "0   2011   849.979021  225.608392  2.596737  39.477855   27492.722611   \n",
       "1   2012   869.442953  329.574944  2.116331  34.908277   24396.982103   \n",
       "2   2013   889.513716  457.650873  2.371571  36.301746   26190.623441   \n",
       "3   2014   908.917989  458.838624  2.161376  34.505291   90976.293651   \n",
       "4   2015   935.703170  499.657061  2.135447  35.386167   27515.438040   \n",
       "5   2016   958.048724  543.958237  2.294664  31.821346  193524.948956   \n",
       "6   2017   978.605042  585.392157  1.943978  29.680672   88961.081232   \n",
       "7   2018   999.057592  627.853403  1.403141  29.272251   25313.510471   \n",
       "8   2019  1019.960880  631.921760  1.591687  30.449878   25811.205379   \n",
       "9   2020  1039.102236  678.246006  1.897764  33.878594  235613.910543   \n",
       "10  2021  1056.011765  667.741176  2.023529  36.323529  373202.070588   \n",
       "\n",
       "    avg_stops_per_race  \n",
       "0             2.596737  \n",
       "1             2.116331  \n",
       "2             2.371571  \n",
       "3             2.161376  \n",
       "4             2.135447  \n",
       "5             2.294664  \n",
       "6             1.943978  \n",
       "7             1.403141  \n",
       "8             1.591687  \n",
       "9             1.897764  \n",
       "10            2.023529  "
      ]
     },
     "execution_count": 277,
     "metadata": {},
     "output_type": "execute_result"
    }
   ],
   "source": [
    "# Aveage number of stops\n",
    "df_pit_stops_number = df_pit_stops.groupby(['raceId','driverId']).max().reset_index()\n",
    "df_pit_stops_number = df_pit_stops_number.groupby(['year']).mean().reset_index()\n",
    "df_pit_stops_number['avg_stops_per_race'] = df_pit_stops_number['stop']\n",
    "df_pit_stops_number"
   ]
  },
  {
   "cell_type": "code",
   "execution_count": 278,
   "metadata": {},
   "outputs": [
    {
     "data": {
      "text/plain": [
       "<AxesSubplot:xlabel='year', ylabel='avg_stops_per_race'>"
      ]
     },
     "execution_count": 278,
     "metadata": {},
     "output_type": "execute_result"
    },
    {
     "data": {
      "image/png": "[encoded data removed]",
      "text/plain": [
       "<Figure size 432x288 with 1 Axes>"
      ]
     },
     "metadata": {
      "needs_background": "light"
     },
     "output_type": "display_data"
    }
   ],
   "source": [
    "sns.lineplot(x=df_pit_stops_number['year'], y=df_pit_stops_number['avg_stops_per_race'])"
   ]
  },
  {
   "cell_type": "markdown",
   "metadata": {},
   "source": [
    "## Number of Collisions (Driver could not finish race) per Year"
   ]
  },
  {
   "cell_type": "code",
   "execution_count": 279,
   "metadata": {},
   "outputs": [],
   "source": [
    "df_results = df_results.merge(status, on=\"statusId\", how='left')"
   ]
  },
  {
   "cell_type": "code",
   "execution_count": 280,
   "metadata": {},
   "outputs": [],
   "source": [
    "df_results_col = df_results[(df_results['status']=='Collision') | (df_results['status']=='Collision damage')]\n",
    "df_results_col = df_results_col.groupby(['year']).count().reset_index()"
   ]
  },
  {
   "cell_type": "code",
   "execution_count": 281,
   "metadata": {},
   "outputs": [
    {
     "data": {
      "text/plain": [
       "<AxesSubplot:xlabel='year', ylabel='status'>"
      ]
     },
     "execution_count": 281,
     "metadata": {},
     "output_type": "execute_result"
    },
    {
     "data": {
      "image/png": "[encoded data removed]",
      "text/plain": [
       "<Figure size 432x288 with 1 Axes>"
      ]
     },
     "metadata": {
      "needs_background": "light"
     },
     "output_type": "display_data"
    }
   ],
   "source": [
    "sns.lineplot(x=df_results_col['year'], y=df_results_col['status'])"
   ]
  },
  {
   "cell_type": "markdown",
   "metadata": {},
   "source": [
    "## Average Number of Lappings in a Race per Season"
   ]
  },
  {
   "cell_type": "code",
   "execution_count": 302,
   "metadata": {},
   "outputs": [
    {
     "name": "stderr",
     "output_type": "stream",
     "text": [
      "<ipython-input-302-3d2a2697d167>:2: SettingWithCopyWarning: \n",
      "A value is trying to be set on a copy of a slice from a DataFrame.\n",
      "Try using .loc[row_indexer,col_indexer] = value instead\n",
      "\n",
      "See the caveats in the documentation: https://pandas.pydata.org/pandas-docs/stable/user_guide/indexing.html#returning-a-view-versus-a-copy\n",
      "  df_results_lap['Laps behind'] = df_results_lap['status'].str[1:-4].astype(int)\n"
     ]
    }
   ],
   "source": [
    "df_results_lap = df_results[df_results['status'].str.startswith('+')]\n",
    "df_results_lap['Laps behind'] = df_results_lap['status'].str[1:-4].astype(int)\n",
    "df_lapings_seas = df_results_lap.groupby('raceId').sum().reset_index()[['raceId', 'Laps behind']].rename({'Laps behind':'Avg Laps behind'})\n",
    "df_results_lap = df_results_lap[['year', 'raceId']].merge(df_lapings_seas, on='raceId', how='left')\n",
    "df_results_lap = df_results_lap.drop_duplicates()\n",
    "df_results_lap = df_results_lap.groupby('year').mean().reset_index()"
   ]
  },
  {
   "cell_type": "code",
   "execution_count": 306,
   "metadata": {},
   "outputs": [
    {
     "data": {
      "text/plain": [
       "<AxesSubplot:xlabel='year', ylabel='#ofDrivers'>"
      ]
     },
     "execution_count": 306,
     "metadata": {},
     "output_type": "execute_result"
    },
    {
     "data": {
      "image/png": "[encoded data removed]",
      "text/plain": [
       "<Figure size 432x288 with 1 Axes>"
      ]
     },
     "metadata": {
      "needs_background": "light"
     },
     "output_type": "display_data"
    }
   ],
   "source": [
    "sns.lineplot(x=race_winners['year'],y=race_winners['#ofDrivers'])\n",
    "sns.lineplot(x=df_results_lap['year'],y=df_results_lap['Laps behind'], color=\"r\")"
   ]
  },
  {
   "cell_type": "markdown",
   "metadata": {},
   "source": [
    "## How did the max speed evolved"
   ]
  },
  {
   "cell_type": "code",
   "execution_count": 316,
   "metadata": {},
   "outputs": [],
   "source": [
    "df_results_speed = df_results.groupby('year').mean().reset_index()"
   ]
  },
  {
   "cell_type": "code",
   "execution_count": 317,
   "metadata": {},
   "outputs": [
    {
     "data": {
      "text/plain": [
       "<AxesSubplot:xlabel='year', ylabel='fastestLapSpeed'>"
      ]
     },
     "execution_count": 317,
     "metadata": {},
     "output_type": "execute_result"
    },
    {
     "data": {
      "image/png": "[encoded data removed]",
      "text/plain": [
       "<Figure size 432x288 with 1 Axes>"
      ]
     },
     "metadata": {
      "needs_background": "light"
     },
     "output_type": "display_data"
    }
   ],
   "source": [
    "sns.lineplot(x=df_results_speed['year'], y=df_results_speed['fastestLapSpeed'])"
   ]
  },
  {
   "cell_type": "code",
   "execution_count": null,
   "metadata": {},
   "outputs": [],
   "source": []
  }
 ],
 "metadata": {
  "kernelspec": {
   "display_name": "Python 3",
   "language": "python",
   "name": "python3"
  },
  "language_info": {
   "codemirror_mode": {
    "name": "ipython",
    "version": 3
   },
   "file_extension": ".py",
   "mimetype": "text/x-python",
   "name": "python",
   "nbconvert_exporter": "python",
   "pygments_lexer": "ipython3",
   "version": "3.8.8"
  }
 },
 "nbformat": 4,
 "nbformat_minor": 4
}
