{
 "cells": [
  {
   "cell_type": "markdown",
   "metadata": {},
   "source": [
    "# Johan Knarreborg "
   ]
  },
  {
   "cell_type": "markdown",
   "metadata": {},
   "source": [
    "## Research question/interests\n",
    "\n",
    "I would like to look at how import the car is. It would also be interesting to see what the most dominating car has been. "
   ]
  },
  {
   "cell_type": "code",
   "execution_count": 12,
   "metadata": {},
   "outputs": [],
   "source": [
    "#Importing libraries \n",
    "import pandas as pd \n",
    "\n",
    "#Importing the raw data\n",
    "circuits = pd.read_csv(\"../data/raw/circuits.csv\")\n",
    "drivers = pd.read_csv(\"../data/raw/drivers.csv\")\n",
    "results = pd.read_csv(\"../data/raw/results.csv\")\n",
    "seasons = pd.read_csv(\"../data/raw/seasons.csv\")\n",
    "status = pd.read_csv(\"../data/raw/status.csv\")\n",
    "lap_times = pd.read_csv(\"../data/raw/lap_times.csv\")\n",
    "pit_stops = pd.read_csv(\"../data/raw/pit_stops.csv\")\n",
    "qualifying = pd.read_csv(\"../data/raw/qualifying.csv\")\n",
    "races = pd.read_csv(\"../data/raw/races.csv\")\n",
    "constructors = pd.read_csv(\"../data/raw/constructors.csv\")\n",
    "constructor_results = pd.read_csv(\"../data/raw/constructor_results.csv\")\n",
    "constructor_standings = pd.read_csv(\"../data/raw/constructor_standings.csv\")\n",
    "driver_standings = pd.read_csv(\"../data/raw/driver_standings.csv\")"
   ]
  },
  {
   "cell_type": "code",
   "execution_count": null,
   "metadata": {},
   "outputs": [],
   "source": []
  },
  {
   "cell_type": "code",
   "execution_count": null,
   "metadata": {},
   "outputs": [],
   "source": []
  }
 ],
 "metadata": {
  "kernelspec": {
   "display_name": "Python 3",
   "language": "python",
   "name": "python3"
  },
  "language_info": {
   "codemirror_mode": {
    "name": "ipython",
    "version": 3
   },
   "file_extension": ".py",
   "mimetype": "text/x-python",
   "name": "python",
   "nbconvert_exporter": "python",
   "pygments_lexer": "ipython3",
   "version": "3.8.8"
  }
 },
 "nbformat": 4,
 "nbformat_minor": 2
}
