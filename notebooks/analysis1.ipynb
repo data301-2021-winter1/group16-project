{
 "cells": [
  {
   "cell_type": "markdown",
   "metadata": {},
   "source": [
    "# Johan Knarreborg "
   ]
  },
  {
   "cell_type": "markdown",
   "metadata": {},
   "source": [
    "## Research question/interests\n",
    "\n",
    "I would like to look at how import the car is. It would also be interesting to see what the most dominating car and driver has been. "
   ]
  },
  {
   "cell_type": "code",
   "execution_count": 1,
   "metadata": {},
   "outputs": [],
   "source": [
    "#Importing libraries \n",
    "import pandas as pd \n",
    "\n",
    "#Importing the raw data\n",
    "circuits = pd.read_csv(\"../data/raw/circuits.csv\")\n",
    "drivers = pd.read_csv(\"../data/raw/drivers.csv\")\n",
    "results = pd.read_csv(\"../data/raw/results.csv\")\n",
    "seasons = pd.read_csv(\"../data/raw/seasons.csv\")\n",
    "status = pd.read_csv(\"../data/raw/status.csv\")\n",
    "lap_times = pd.read_csv(\"../data/raw/lap_times.csv\")\n",
    "pit_stops = pd.read_csv(\"../data/raw/pit_stops.csv\")\n",
    "qualifying = pd.read_csv(\"../data/raw/qualifying.csv\")\n",
    "races = pd.read_csv(\"../data/raw/races.csv\")\n",
    "constructors = pd.read_csv(\"../data/raw/constructors.csv\")\n",
    "constructor_results = pd.read_csv(\"../data/raw/constructor_results.csv\")\n",
    "constructor_standings = pd.read_csv(\"../data/raw/constructor_standings.csv\")\n",
    "driver_standings = pd.read_csv(\"../data/raw/driver_standings.csv\")"
   ]
  },
  {
   "cell_type": "code",
   "execution_count": 2,
   "metadata": {},
   "outputs": [
    {
     "name": "stdout",
     "output_type": "stream",
     "text": [
      "      raceId  year  round  circuitId                      name        date  \\\n",
      "0          1  2009      1          1     Australian Grand Prix  2009-03-29   \n",
      "1          2  2009      2          2      Malaysian Grand Prix  2009-04-05   \n",
      "2          3  2009      3         17        Chinese Grand Prix  2009-04-19   \n",
      "3          4  2009      4          3        Bahrain Grand Prix  2009-04-26   \n",
      "4          5  2009      5          4        Spanish Grand Prix  2009-05-10   \n",
      "...      ...   ...    ...        ...                       ...         ...   \n",
      "1053    1069  2021     18         69  United States Grand Prix  2021-10-24   \n",
      "1054    1070  2021     19         32    Mexico City Grand Prix  2021-10-31   \n",
      "1055    1071  2021     20         18      Brazilian Grand Prix  2021-11-07   \n",
      "1056    1072  2021     22         77  Saudi Arabian Grand Prix  2021-12-05   \n",
      "1057    1073  2021     23         24      Abu Dhabi Grand Prix  2021-12-12   \n",
      "\n",
      "          time                                                url  \n",
      "0     06:00:00  http://en.wikipedia.org/wiki/2009_Australian_G...  \n",
      "1     09:00:00  http://en.wikipedia.org/wiki/2009_Malaysian_Gr...  \n",
      "2     07:00:00  http://en.wikipedia.org/wiki/2009_Chinese_Gran...  \n",
      "3     12:00:00  http://en.wikipedia.org/wiki/2009_Bahrain_Gran...  \n",
      "4     12:00:00  http://en.wikipedia.org/wiki/2009_Spanish_Gran...  \n",
      "...        ...                                                ...  \n",
      "1053  19:00:00  http://en.wikipedia.org/wiki/2021_United_State...  \n",
      "1054  19:00:00  http://en.wikipedia.org/wiki/2021_Mexican_Gran...  \n",
      "1055  17:00:00  http://en.wikipedia.org/wiki/2021_Brazilian_Gr...  \n",
      "1056  16:00:00  http://en.wikipedia.org/wiki/2021_Saudi_Arabia...  \n",
      "1057  13:00:00  http://en.wikipedia.org/wiki/2021_Abu_Dhabi_Gr...  \n",
      "\n",
      "[1058 rows x 8 columns]\n"
     ]
    }
   ],
   "source": [
    "#cleaning the data \n",
    "print(races)"
   ]
  },
  {
   "cell_type": "code",
   "execution_count": 3,
   "metadata": {},
   "outputs": [
    {
     "name": "stdout",
     "output_type": "stream",
     "text": [
      "14    71\n",
      "Name: circuitId, dtype: int64\n"
     ]
    }
   ],
   "source": [
    "#same driver, same track  and their fastest lap through the years\n",
    "#find the most used circuit\n",
    "count = races.circuitId.value_counts()\n",
    "print(count[0:1])\n",
    "#Circuit 14 has been used the most with 71 races. "
   ]
  },
  {
   "cell_type": "code",
   "execution_count": 4,
   "metadata": {},
   "outputs": [
    {
     "name": "stdout",
     "output_type": "stream",
     "text": [
      "    circuitId circuitRef                          name location country  \\\n",
      "13         14      monza  Autodromo Nazionale di Monza    Monza   Italy   \n",
      "\n",
      "        lat      lng  alt                                                url  \n",
      "13  45.6156  9.28111  162  http://en.wikipedia.org/wiki/Autodromo_Naziona...  \n"
     ]
    }
   ],
   "source": [
    "#Looking up circuit 14\n",
    "print(circuits[13:14])"
   ]
  },
  {
   "cell_type": "code",
   "execution_count": 5,
   "metadata": {},
   "outputs": [],
   "source": [
    "#Making new dataframe merging results and what circuits "
   ]
  },
  {
   "cell_type": "code",
   "execution_count": 6,
   "metadata": {},
   "outputs": [],
   "source": [
    "races2= races.drop([\"year\",\"round\",\"name\",\"date\",\"time\",\"url\"],axis=1)"
   ]
  },
  {
   "cell_type": "code",
   "execution_count": 7,
   "metadata": {},
   "outputs": [
    {
     "name": "stdout",
     "output_type": "stream",
     "text": [
      "       resultId  raceId  driverId  constructorId number  grid position  \\\n",
      "0             1      18         1              1     22     1        1   \n",
      "1             2      18         2              2      3     5        2   \n",
      "2             3      18         3              3      7     7        3   \n",
      "3             4      18         4              4      5    11        4   \n",
      "4             5      18         5              1     23     3        5   \n",
      "...         ...     ...       ...            ...    ...   ...      ...   \n",
      "25135     25141    1060       849              3      6    18       16   \n",
      "25136     25142    1060        20            117      5    11       17   \n",
      "25137     25143    1060       854            210     47    19       18   \n",
      "25138     25144    1060       853            210      9    20       19   \n",
      "25139     25145    1060       839            214     31    17       \\N   \n",
      "\n",
      "      positionText  positionOrder  points  laps         time milliseconds  \\\n",
      "0                1              1    10.0    58  1:34:50.616      5690616   \n",
      "1                2              2     8.0    58       +5.478      5696094   \n",
      "2                3              3     6.0    58       +8.163      5698779   \n",
      "3                4              4     5.0    58      +17.181      5707797   \n",
      "4                5              5     4.0    58      +18.014      5708630   \n",
      "...            ...            ...     ...   ...          ...          ...   \n",
      "25135           16             16     0.0    70           \\N           \\N   \n",
      "25136           17             17     0.0    69           \\N           \\N   \n",
      "25137           18             18     0.0    69           \\N           \\N   \n",
      "25138           19             19     0.0    69           \\N           \\N   \n",
      "25139            R             20     0.0     0           \\N           \\N   \n",
      "\n",
      "      fastestLap rank fastestLapTime fastestLapSpeed  statusId  circuitId  \n",
      "0             39    2       1:27.452         218.300         1          1  \n",
      "1             41    3       1:27.739         217.586         1          1  \n",
      "2             41    5       1:28.090         216.719         1          1  \n",
      "3             58    7       1:28.603         215.464         1          1  \n",
      "4             43    1       1:27.418         218.385         1          1  \n",
      "...          ...  ...            ...             ...       ...        ...  \n",
      "25135         62   11       1:08.520         226.865        11         70  \n",
      "25136         51    8       1:08.420         227.196         4         70  \n",
      "25137         56   18       1:09.394         224.007        12         70  \n",
      "25138         49   19       1:09.757         222.842        12         70  \n",
      "25139         \\N    0             \\N              \\N         4         70  \n",
      "\n",
      "[25140 rows x 19 columns]\n"
     ]
    }
   ],
   "source": [
    "results2 = pd.merge(results,races2,on=\"raceId\",how=\"left\")\n",
    "print(results2)"
   ]
  },
  {
   "cell_type": "code",
   "execution_count": 8,
   "metadata": {},
   "outputs": [
    {
     "name": "stdout",
     "output_type": "stream",
     "text": [
      "8      341\n",
      "22     326\n",
      "4      323\n",
      "18     309\n",
      "30     308\n",
      "1      275\n",
      "13     271\n",
      "20     267\n",
      "119    257\n",
      "15     256\n",
      "Name: driverId, dtype: int64\n"
     ]
    }
   ],
   "source": [
    "driverTop = results2.driverId.value_counts()\n",
    "print(driverTop[0:10])"
   ]
  },
  {
   "cell_type": "code",
   "execution_count": 24,
   "metadata": {},
   "outputs": [
    {
     "name": "stdout",
     "output_type": "stream",
     "text": [
      "       resultId  raceId  driverId  constructorId number  grid position  \\\n",
      "276         277      31         8              6      1    14        9   \n",
      "634         635      48         8              6      6     5        3   \n",
      "1051       1052      67         8              1      3     1        2   \n",
      "1417       1418      85         8              1      9    11        4   \n",
      "7795       7796      13         8              6      4     3        3   \n",
      "21521     21524     872         8            208      9     7        5   \n",
      "21961     21964     892         8            208      7    11       11   \n",
      "22399     22403     912         8              6      7    11        9   \n",
      "22756     22760     938         8              6      7     2        5   \n",
      "23201     23206     961         8              6      7     4        4   \n",
      "23621     23626     981         8              6      7     5        5   \n",
      "24038     24044    1002         8              6      7     1        2   \n",
      "24772     24778    1038         8             51      7    14       13   \n",
      "\n",
      "      positionText  positionOrder  points  laps       time milliseconds  \\\n",
      "276              9              9     0.0    53    +39.468      5246962   \n",
      "634              3              3     6.0    53    +27.325      4745131   \n",
      "1051             2              2     8.0    53     +8.046      4500021   \n",
      "1417             4              4     5.0    53    +22.775      4491434   \n",
      "7795             3              3     6.0    53    +30.664      4612370   \n",
      "21521            5              5    10.0    53    +30.881      4812102   \n",
      "21961           11             11     0.0    53    +38.695      4752047   \n",
      "22399            9              9     2.0    53  +1:03.535      4813771   \n",
      "22756            5              5    10.0    53  +1:08.860      4749548   \n",
      "23201            4              4    12.0    53    +27.561      4675650   \n",
      "23621            5              5    10.0    53  +1:00.082      4592394   \n",
      "24038            2              2    18.0    53     +8.705      4623189   \n",
      "24772           13             13     0.0    53    +36.312      6462368   \n",
      "\n",
      "      fastestLap rank fastestLapTime fastestLapSpeed  statusId  circuitId  \n",
      "276           53    1       1:28.047         236.859         1         14  \n",
      "634           21    3       1:23.370         250.147         1         14  \n",
      "1051          13    1       1:22.559         252.604         1         14  \n",
      "1417          51    1       1:21.504         255.874         1         14  \n",
      "7795          36    2       1:24.761         246.042         1         14  \n",
      "21521         52   17       1:29.109         234.036         1         14  \n",
      "21961         45    6       1:26.948         239.853         1         14  \n",
      "22399         43    7       1:28.942         234.476         1         14  \n",
      "22756         43    7       1:27.584         238.111         1         14  \n",
      "23201         50    3       1:26.016         242.452         1         14  \n",
      "23621         43    8       1:25.054         245.194         1         14  \n",
      "24038         28    4       1:23.515         249.713         1         14  \n",
      "24772         29   13       1:24.835         245.827         1         14  \n"
     ]
    },
    {
     "data": {
      "text/plain": [
       "[<matplotlib.lines.Line2D at 0x7ff0d9863520>]"
      ]
     },
     "execution_count": 24,
     "metadata": {},
     "output_type": "execute_result"
    },
    {
     "data": {
      "image/png": "[encoded data removed]",
      "text/plain": [
       "<Figure size 432x288 with 2 Axes>"
      ]
     },
     "metadata": {
      "needs_background": "light"
     },
     "output_type": "display_data"
    }
   ],
   "source": [
    "#driver 8 has been driving most races at the most raced track\n",
    "import matplotlib.pyplot as plt \n",
    "import numpy as np\n",
    "#plotting the fastest laptime and the average laptime for driver 8 for every race at track 14. \n",
    "driver8 = results2[results2[\"circuitId\"]==14]\n",
    "driver8 = driver8[driver8[\"driverId\"]==8]\n",
    "driver8 = driver8.drop([2137,2510,2870,1812,24474],axis=0)\n",
    "print(driver8)\n",
    "driver8[\"fastestLapSpeed\"] = pd.to_numeric(driver8[\"fastestLapSpeed\"], downcast=\"float\")\n",
    "driver8[\"milliseconds\"] = pd.to_numeric(driver8[\"milliseconds\"], downcast=\"float\")\n",
    "driver8[\"laps\"] = pd.to_numeric(driver8[\"laps\"], downcast=\"float\")\n",
    "fig, axs = plt.subplots(2)\n",
    "axs[0].plot(np.linspace(0,1,len(driver8[\"fastestLapSpeed\"])),driver8[\"fastestLapSpeed\"],'bo')\n",
    "axs[1].plot(np.linspace(0,1,len(driver8[\"fastestLapSpeed\"])),driver8[\"milliseconds\"]/driver8[\"laps\"],'bo')\n"
   ]
  },
  {
   "cell_type": "code",
   "execution_count": null,
   "metadata": {
    "scrolled": true
   },
   "outputs": [],
   "source": [
    "\n"
   ]
  },
  {
   "cell_type": "code",
   "execution_count": null,
   "metadata": {},
   "outputs": [],
   "source": []
  },
  {
   "cell_type": "code",
   "execution_count": null,
   "metadata": {},
   "outputs": [],
   "source": []
  }
 ],
 "metadata": {
  "kernelspec": {
   "display_name": "Python 3",
   "language": "python",
   "name": "python3"
  },
  "language_info": {
   "codemirror_mode": {
    "name": "ipython",
    "version": 3
   },
   "file_extension": ".py",
   "mimetype": "text/x-python",
   "name": "python",
   "nbconvert_exporter": "python",
   "pygments_lexer": "ipython3",
   "version": "3.8.8"
  }
 },
 "nbformat": 4,
 "nbformat_minor": 2
}
