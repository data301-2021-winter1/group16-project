{
 "cells": [
  {
   "cell_type": "markdown",
   "metadata": {},
   "source": [
    "# Niklas Tecklenburg (88481171)"
   ]
  },
  {
   "cell_type": "markdown",
   "metadata": {},
   "source": [
    "## Research question/interests\n",
    "After conducting the Exploaratory Data analysis, I came to the conclusion, that it might be difficult to identify proper coupling parameters for the Team and their drivers. On the other hand the analysis raised my curiosity, looking into individual races. Here I would like to come up with an analysis / analysis criteria, to evaluate which races in the past have been the most interesting one for spectators."
   ]
  },
  {
   "cell_type": "markdown",
   "metadata": {},
   "source": [
    "## Import Packages for the EDA"
   ]
  },
  {
   "cell_type": "code",
   "execution_count": 113,
   "metadata": {},
   "outputs": [],
   "source": [
    "import pandas as pd\n",
    "import matplotlib.pyplot as plt\n",
    "import seaborn as sns"
   ]
  },
  {
   "cell_type": "markdown",
   "metadata": {},
   "source": [
    "## Load Data"
   ]
  },
  {
   "cell_type": "code",
   "execution_count": 114,
   "metadata": {},
   "outputs": [],
   "source": [
    "circuits = pd.read_csv('../data/raw/circuits.csv', na_values=['\\\\N'])\n",
    "constructor_res = pd.read_csv('../data/raw/constructor_results.csv', na_values=['\\\\N'])\n",
    "constructor_stand = pd.read_csv('../data/raw/constructor_standings.csv', na_values=['\\\\N'])\n",
    "constructors = pd.read_csv('../data/raw/constructors.csv', na_values=['\\\\N'])\n",
    "driver_stand = pd.read_csv('../data/raw/driver_standings.csv', na_values=['\\\\N'])\n",
    "drivers = pd.read_csv('../data/raw/drivers.csv', na_values=['\\\\N'])\n",
    "lap_times = pd.read_csv('../data/raw/lap_times.csv', na_values=['\\\\N'])\n",
    "pit_stops = pd.read_csv('../data/raw/pit_stops.csv', na_values=['\\\\N'])\n",
    "qualifying = pd.read_csv('../data/raw/qualifying.csv', na_values=['\\\\N'])\n",
    "races = pd.read_csv('../data/raw/races.csv', na_values=['\\\\N'])\n",
    "results = pd.read_csv('../data/raw/results.csv', na_values=['\\\\N'])\n",
    "seasons = pd.read_csv('../data/raw/seasons.csv', na_values=['\\\\N'])\n",
    "status = pd.read_csv('../data/raw/status.csv', na_values=['\\\\N'])"
   ]
  },
  {
   "cell_type": "markdown",
   "metadata": {},
   "source": [
    "# Exploratory Data Analysis\n",
    "As the Formula 1, the Rules and the Cars have changed over time, I am focusing on the development over time in my EDA. The EDA includes the following Analysis:\n",
    "- Number of Seasons in the Dataset\n",
    "- Races per Season\n",
    "- Number of Drivers Winning a race per Season\n",
    "- Development of Pit Stop Times over time\n",
    "- Average number of Stops per Race per Season\n",
    "- Number of Collisions (Driver could not finish race) per Year\n",
    "- Average Number of Lappings in a Race per Season\n",
    "- How did the max speed evolved"
   ]
  },
  {
   "cell_type": "markdown",
   "metadata": {},
   "source": [
    "## Number of Seasons in the Dataset"
   ]
  },
  {
   "cell_type": "code",
   "execution_count": 115,
   "metadata": {},
   "outputs": [
    {
     "data": {
      "text/plain": [
       "72"
      ]
     },
     "execution_count": 115,
     "metadata": {},
     "output_type": "execute_result"
    }
   ],
   "source": [
    "len(seasons)"
   ]
  },
  {
   "cell_type": "markdown",
   "metadata": {},
   "source": [
    "Our Dataset contains data for 72 Seasons. One has to notice, that results of the current season are also included, but this season is not yet over."
   ]
  },
  {
   "cell_type": "markdown",
   "metadata": {},
   "source": [
    "## Races per Seson"
   ]
  },
  {
   "cell_type": "code",
   "execution_count": 116,
   "metadata": {},
   "outputs": [],
   "source": [
    "races_per_season = races.groupby('year').count().reset_index()[['year', 'raceId']].rename(columns={'raceId':'Number of Races'})"
   ]
  },
  {
   "cell_type": "code",
   "execution_count": 117,
   "metadata": {},
   "outputs": [
    {
     "data": {
      "text/plain": [
       "Text(0.5, 1.0, 'Races per Season')"
      ]
     },
     "execution_count": 117,
     "metadata": {},
     "output_type": "execute_result"
    },
    {
     "data": {
      "image/png": "[encoded data removed]",
      "text/plain": [
       "<Figure size 432x288 with 1 Axes>"
      ]
     },
     "metadata": {},
     "output_type": "display_data"
    }
   ],
   "source": [
    "sns.lineplot(x=races_per_season['year'],y=races_per_season['Number of Races']).set_title(\"Races per Season\")"
   ]
  },
  {
   "cell_type": "markdown",
   "metadata": {},
   "source": [
    "## Number of Drivers Winning a race per Season\n",
    "As I have noticed that the number of drivers participating in Races/Seasons, the number of Drivers needs to be considered here as well."
   ]
  },
  {
   "cell_type": "code",
   "execution_count": 118,
   "metadata": {},
   "outputs": [
    {
     "data": {
      "text/html": [
       "<div>\n",
       "<style scoped>\n",
       "    .dataframe tbody tr th:only-of-type {\n",
       "        vertical-align: middle;\n",
       "    }\n",
       "\n",
       "    .dataframe tbody tr th {\n",
       "        vertical-align: top;\n",
       "    }\n",
       "\n",
       "    .dataframe thead th {\n",
       "        text-align: right;\n",
       "    }\n",
       "</style>\n",
       "<table border=\"1\" class=\"dataframe\">\n",
       "  <thead>\n",
       "    <tr style=\"text-align: right;\">\n",
       "      <th></th>\n",
       "      <th>year</th>\n",
       "      <th>#ofWinners</th>\n",
       "      <th>#ofDrivers</th>\n",
       "      <th>relative_num_winners</th>\n",
       "    </tr>\n",
       "  </thead>\n",
       "  <tbody>\n",
       "    <tr>\n",
       "      <th>0</th>\n",
       "      <td>1950</td>\n",
       "      <td>3</td>\n",
       "      <td>81</td>\n",
       "      <td>0.037037</td>\n",
       "    </tr>\n",
       "    <tr>\n",
       "      <th>1</th>\n",
       "      <td>1951</td>\n",
       "      <td>6</td>\n",
       "      <td>84</td>\n",
       "      <td>0.071429</td>\n",
       "    </tr>\n",
       "    <tr>\n",
       "      <th>2</th>\n",
       "      <td>1952</td>\n",
       "      <td>3</td>\n",
       "      <td>105</td>\n",
       "      <td>0.028571</td>\n",
       "    </tr>\n",
       "    <tr>\n",
       "      <th>3</th>\n",
       "      <td>1953</td>\n",
       "      <td>5</td>\n",
       "      <td>108</td>\n",
       "      <td>0.046296</td>\n",
       "    </tr>\n",
       "    <tr>\n",
       "      <th>4</th>\n",
       "      <td>1954</td>\n",
       "      <td>4</td>\n",
       "      <td>97</td>\n",
       "      <td>0.041237</td>\n",
       "    </tr>\n",
       "    <tr>\n",
       "      <th>...</th>\n",
       "      <td>...</td>\n",
       "      <td>...</td>\n",
       "      <td>...</td>\n",
       "      <td>...</td>\n",
       "    </tr>\n",
       "    <tr>\n",
       "      <th>67</th>\n",
       "      <td>2017</td>\n",
       "      <td>5</td>\n",
       "      <td>25</td>\n",
       "      <td>0.200000</td>\n",
       "    </tr>\n",
       "    <tr>\n",
       "      <th>68</th>\n",
       "      <td>2018</td>\n",
       "      <td>5</td>\n",
       "      <td>20</td>\n",
       "      <td>0.250000</td>\n",
       "    </tr>\n",
       "    <tr>\n",
       "      <th>69</th>\n",
       "      <td>2019</td>\n",
       "      <td>5</td>\n",
       "      <td>20</td>\n",
       "      <td>0.250000</td>\n",
       "    </tr>\n",
       "    <tr>\n",
       "      <th>70</th>\n",
       "      <td>2020</td>\n",
       "      <td>5</td>\n",
       "      <td>23</td>\n",
       "      <td>0.217391</td>\n",
       "    </tr>\n",
       "    <tr>\n",
       "      <th>71</th>\n",
       "      <td>2021</td>\n",
       "      <td>3</td>\n",
       "      <td>20</td>\n",
       "      <td>0.150000</td>\n",
       "    </tr>\n",
       "  </tbody>\n",
       "</table>\n",
       "<p>72 rows × 4 columns</p>\n",
       "</div>"
      ],
      "text/plain": [
       "    year  #ofWinners  #ofDrivers  relative_num_winners\n",
       "0   1950           3          81              0.037037\n",
       "1   1951           6          84              0.071429\n",
       "2   1952           3         105              0.028571\n",
       "3   1953           5         108              0.046296\n",
       "4   1954           4          97              0.041237\n",
       "..   ...         ...         ...                   ...\n",
       "67  2017           5          25              0.200000\n",
       "68  2018           5          20              0.250000\n",
       "69  2019           5          20              0.250000\n",
       "70  2020           5          23              0.217391\n",
       "71  2021           3          20              0.150000\n",
       "\n",
       "[72 rows x 4 columns]"
      ]
     },
     "execution_count": 118,
     "metadata": {},
     "output_type": "execute_result"
    }
   ],
   "source": [
    "race_years = races[['raceId', 'year']]\n",
    "df_results = results.merge(race_years, on='raceId', how='left')\n",
    "df_results_driver_count = df_results.groupby('year').nunique().reset_index()\n",
    "df_results_driver_count = df_results_driver_count[['driverId','year']]\n",
    "df_results_driver_count = df_results_driver_count.rename(columns={'driverId': '#ofDrivers'})\n",
    "race_winners = df_results[df_results['positionOrder'] == 1]\n",
    "race_winners = race_winners.groupby(['year']).nunique().reset_index()\n",
    "race_winners = race_winners[['driverId','year']]\n",
    "race_winners = race_winners.rename(columns={'driverId':'#ofWinners'})\n",
    "race_winners = race_winners.merge(df_results_driver_count, on='year', how='left')\n",
    "race_winners = race_winners[['year', '#ofWinners', '#ofDrivers']]\n",
    "race_winners['relative_num_winners'] = race_winners['#ofWinners'] / race_winners['#ofDrivers']\n",
    "race_winners"
   ]
  },
  {
   "cell_type": "code",
   "execution_count": 119,
   "metadata": {},
   "outputs": [
    {
     "data": {
      "text/plain": [
       "Text(0.5, 1.0, 'Number of Drivers over Time')"
      ]
     },
     "execution_count": 119,
     "metadata": {},
     "output_type": "execute_result"
    },
    {
     "data": {
      "image/png": "[encoded data removed]",
      "text/plain": [
       "<Figure size 432x288 with 1 Axes>"
      ]
     },
     "metadata": {},
     "output_type": "display_data"
    }
   ],
   "source": [
    "sns.lineplot(x=race_winners['year'],y=race_winners['#ofDrivers']).set_title(\"Number of Drivers over Time\")"
   ]
  },
  {
   "cell_type": "markdown",
   "metadata": {},
   "source": [
    "We can see that the number of drivers participating in a see has decreased from over 100 in the 50s to just above 20 from mid 90s to today. Looking into the rules there are 10 teams, with 2 drivers each. the peaks result from drivers missing a race and a replacment driver, taking the seat for this race."
   ]
  },
  {
   "cell_type": "code",
   "execution_count": 120,
   "metadata": {},
   "outputs": [
    {
     "data": {
      "text/plain": [
       "<matplotlib.legend.Legend at 0x1408d5670>"
      ]
     },
     "execution_count": 120,
     "metadata": {},
     "output_type": "execute_result"
    },
    {
     "data": {
      "image/png": "[encoded data removed]",
      "text/plain": [
       "<Figure size 432x288 with 2 Axes>"
      ]
     },
     "metadata": {},
     "output_type": "display_data"
    }
   ],
   "source": [
    "sns.lineplot(x=race_winners['year'],y=race_winners['#ofWinners'])\n",
    "plt.legend(labels=['# of Winners'])\n",
    "ax2 = plt.twinx()\n",
    "sns.lineplot(x=race_winners['year'],y=race_winners['relative_num_winners'], ax=ax2, color=\"r\").set_title(\"Absolute and relative number of Winners over Time\")\n",
    "plt.legend(labels=['# of Winners / # of Drivers'])"
   ]
  },
  {
   "cell_type": "markdown",
   "metadata": {},
   "source": [
    "We can see, that there seems to be a slight upwards trend in the relative amount of different drivers, wining a race in a season."
   ]
  },
  {
   "cell_type": "markdown",
   "metadata": {},
   "source": [
    "## Development of Pit Stop Times over time"
   ]
  },
  {
   "cell_type": "code",
   "execution_count": 22,
   "metadata": {},
   "outputs": [
    {
     "data": {
      "text/html": [
       "<div>\n",
       "<style scoped>\n",
       "    .dataframe tbody tr th:only-of-type {\n",
       "        vertical-align: middle;\n",
       "    }\n",
       "\n",
       "    .dataframe tbody tr th {\n",
       "        vertical-align: top;\n",
       "    }\n",
       "\n",
       "    .dataframe thead th {\n",
       "        text-align: right;\n",
       "    }\n",
       "</style>\n",
       "<table border=\"1\" class=\"dataframe\">\n",
       "  <thead>\n",
       "    <tr style=\"text-align: right;\">\n",
       "      <th></th>\n",
       "      <th>raceId</th>\n",
       "      <th>driverId</th>\n",
       "      <th>stop</th>\n",
       "      <th>lap</th>\n",
       "      <th>time</th>\n",
       "      <th>duration</th>\n",
       "      <th>milliseconds</th>\n",
       "    </tr>\n",
       "  </thead>\n",
       "  <tbody>\n",
       "    <tr>\n",
       "      <th>0</th>\n",
       "      <td>841</td>\n",
       "      <td>153</td>\n",
       "      <td>1</td>\n",
       "      <td>1</td>\n",
       "      <td>17:05:23</td>\n",
       "      <td>26.898</td>\n",
       "      <td>26898</td>\n",
       "    </tr>\n",
       "    <tr>\n",
       "      <th>1</th>\n",
       "      <td>841</td>\n",
       "      <td>30</td>\n",
       "      <td>1</td>\n",
       "      <td>1</td>\n",
       "      <td>17:05:52</td>\n",
       "      <td>25.021</td>\n",
       "      <td>25021</td>\n",
       "    </tr>\n",
       "    <tr>\n",
       "      <th>2</th>\n",
       "      <td>841</td>\n",
       "      <td>17</td>\n",
       "      <td>1</td>\n",
       "      <td>11</td>\n",
       "      <td>17:20:48</td>\n",
       "      <td>23.426</td>\n",
       "      <td>23426</td>\n",
       "    </tr>\n",
       "    <tr>\n",
       "      <th>3</th>\n",
       "      <td>841</td>\n",
       "      <td>4</td>\n",
       "      <td>1</td>\n",
       "      <td>12</td>\n",
       "      <td>17:22:34</td>\n",
       "      <td>23.251</td>\n",
       "      <td>23251</td>\n",
       "    </tr>\n",
       "    <tr>\n",
       "      <th>4</th>\n",
       "      <td>841</td>\n",
       "      <td>13</td>\n",
       "      <td>1</td>\n",
       "      <td>13</td>\n",
       "      <td>17:24:10</td>\n",
       "      <td>23.842</td>\n",
       "      <td>23842</td>\n",
       "    </tr>\n",
       "    <tr>\n",
       "      <th>...</th>\n",
       "      <td>...</td>\n",
       "      <td>...</td>\n",
       "      <td>...</td>\n",
       "      <td>...</td>\n",
       "      <td>...</td>\n",
       "      <td>...</td>\n",
       "      <td>...</td>\n",
       "    </tr>\n",
       "    <tr>\n",
       "      <th>8369</th>\n",
       "      <td>1060</td>\n",
       "      <td>832</td>\n",
       "      <td>1</td>\n",
       "      <td>48</td>\n",
       "      <td>16:01:07</td>\n",
       "      <td>21.431</td>\n",
       "      <td>21431</td>\n",
       "    </tr>\n",
       "    <tr>\n",
       "      <th>8370</th>\n",
       "      <td>1060</td>\n",
       "      <td>20</td>\n",
       "      <td>2</td>\n",
       "      <td>49</td>\n",
       "      <td>16:02:39</td>\n",
       "      <td>20.841</td>\n",
       "      <td>20841</td>\n",
       "    </tr>\n",
       "    <tr>\n",
       "      <th>8371</th>\n",
       "      <td>1060</td>\n",
       "      <td>852</td>\n",
       "      <td>2</td>\n",
       "      <td>51</td>\n",
       "      <td>16:04:57</td>\n",
       "      <td>26.604</td>\n",
       "      <td>26604</td>\n",
       "    </tr>\n",
       "    <tr>\n",
       "      <th>8372</th>\n",
       "      <td>1060</td>\n",
       "      <td>1</td>\n",
       "      <td>2</td>\n",
       "      <td>53</td>\n",
       "      <td>16:06:32</td>\n",
       "      <td>21.421</td>\n",
       "      <td>21421</td>\n",
       "    </tr>\n",
       "    <tr>\n",
       "      <th>8373</th>\n",
       "      <td>1060</td>\n",
       "      <td>830</td>\n",
       "      <td>2</td>\n",
       "      <td>60</td>\n",
       "      <td>16:14:03</td>\n",
       "      <td>21.236</td>\n",
       "      <td>21236</td>\n",
       "    </tr>\n",
       "  </tbody>\n",
       "</table>\n",
       "<p>8374 rows × 7 columns</p>\n",
       "</div>"
      ],
      "text/plain": [
       "      raceId  driverId  stop  lap      time duration  milliseconds\n",
       "0        841       153     1    1  17:05:23   26.898         26898\n",
       "1        841        30     1    1  17:05:52   25.021         25021\n",
       "2        841        17     1   11  17:20:48   23.426         23426\n",
       "3        841         4     1   12  17:22:34   23.251         23251\n",
       "4        841        13     1   13  17:24:10   23.842         23842\n",
       "...      ...       ...   ...  ...       ...      ...           ...\n",
       "8369    1060       832     1   48  16:01:07   21.431         21431\n",
       "8370    1060        20     2   49  16:02:39   20.841         20841\n",
       "8371    1060       852     2   51  16:04:57   26.604         26604\n",
       "8372    1060         1     2   53  16:06:32   21.421         21421\n",
       "8373    1060       830     2   60  16:14:03   21.236         21236\n",
       "\n",
       "[8374 rows x 7 columns]"
      ]
     },
     "execution_count": 22,
     "metadata": {},
     "output_type": "execute_result"
    }
   ],
   "source": [
    "pit_stops"
   ]
  },
  {
   "cell_type": "code",
   "execution_count": 28,
   "metadata": {},
   "outputs": [
    {
     "data": {
      "text/html": [
       "<div>\n",
       "<style scoped>\n",
       "    .dataframe tbody tr th:only-of-type {\n",
       "        vertical-align: middle;\n",
       "    }\n",
       "\n",
       "    .dataframe tbody tr th {\n",
       "        vertical-align: top;\n",
       "    }\n",
       "\n",
       "    .dataframe thead th {\n",
       "        text-align: right;\n",
       "    }\n",
       "</style>\n",
       "<table border=\"1\" class=\"dataframe\">\n",
       "  <thead>\n",
       "    <tr style=\"text-align: right;\">\n",
       "      <th></th>\n",
       "      <th>year</th>\n",
       "      <th>raceId</th>\n",
       "      <th>driverId</th>\n",
       "      <th>stop</th>\n",
       "      <th>lap</th>\n",
       "      <th>milliseconds</th>\n",
       "      <th>Avg Duration in Seconds</th>\n",
       "    </tr>\n",
       "  </thead>\n",
       "  <tbody>\n",
       "    <tr>\n",
       "      <th>0</th>\n",
       "      <td>2011</td>\n",
       "      <td>849.680431</td>\n",
       "      <td>219.649910</td>\n",
       "      <td>1.947038</td>\n",
       "      <td>27.572711</td>\n",
       "      <td>24448.849192</td>\n",
       "      <td>24.448849</td>\n",
       "    </tr>\n",
       "    <tr>\n",
       "      <th>1</th>\n",
       "      <td>2012</td>\n",
       "      <td>868.778013</td>\n",
       "      <td>326.889006</td>\n",
       "      <td>1.739958</td>\n",
       "      <td>25.416490</td>\n",
       "      <td>23283.769556</td>\n",
       "      <td>23.283770</td>\n",
       "    </tr>\n",
       "    <tr>\n",
       "      <th>2</th>\n",
       "      <td>2013</td>\n",
       "      <td>888.593060</td>\n",
       "      <td>461.409043</td>\n",
       "      <td>1.855941</td>\n",
       "      <td>25.309148</td>\n",
       "      <td>24121.318612</td>\n",
       "      <td>24.121319</td>\n",
       "    </tr>\n",
       "    <tr>\n",
       "      <th>3</th>\n",
       "      <td>2014</td>\n",
       "      <td>909.029412</td>\n",
       "      <td>456.474265</td>\n",
       "      <td>1.754902</td>\n",
       "      <td>24.678922</td>\n",
       "      <td>55088.632353</td>\n",
       "      <td>55.088632</td>\n",
       "    </tr>\n",
       "    <tr>\n",
       "      <th>4</th>\n",
       "      <td>2015</td>\n",
       "      <td>935.900135</td>\n",
       "      <td>505.113360</td>\n",
       "      <td>1.801619</td>\n",
       "      <td>27.109312</td>\n",
       "      <td>25500.213225</td>\n",
       "      <td>25.500213</td>\n",
       "    </tr>\n",
       "    <tr>\n",
       "      <th>5</th>\n",
       "      <td>2016</td>\n",
       "      <td>957.864510</td>\n",
       "      <td>544.389282</td>\n",
       "      <td>1.823054</td>\n",
       "      <td>22.561173</td>\n",
       "      <td>124357.194135</td>\n",
       "      <td>124.357194</td>\n",
       "    </tr>\n",
       "    <tr>\n",
       "      <th>6</th>\n",
       "      <td>2017</td>\n",
       "      <td>978.353026</td>\n",
       "      <td>586.048991</td>\n",
       "      <td>1.914986</td>\n",
       "      <td>19.799712</td>\n",
       "      <td>56789.619597</td>\n",
       "      <td>56.789620</td>\n",
       "    </tr>\n",
       "    <tr>\n",
       "      <th>7</th>\n",
       "      <td>2018</td>\n",
       "      <td>998.692164</td>\n",
       "      <td>636.968284</td>\n",
       "      <td>1.332090</td>\n",
       "      <td>25.369403</td>\n",
       "      <td>24674.283582</td>\n",
       "      <td>24.674284</td>\n",
       "    </tr>\n",
       "    <tr>\n",
       "      <th>8</th>\n",
       "      <td>2019</td>\n",
       "      <td>1020.086287</td>\n",
       "      <td>618.389831</td>\n",
       "      <td>1.520801</td>\n",
       "      <td>26.211094</td>\n",
       "      <td>24870.613251</td>\n",
       "      <td>24.870613</td>\n",
       "    </tr>\n",
       "    <tr>\n",
       "      <th>9</th>\n",
       "      <td>2020</td>\n",
       "      <td>1039.163300</td>\n",
       "      <td>674.471380</td>\n",
       "      <td>1.712121</td>\n",
       "      <td>26.984848</td>\n",
       "      <td>160940.321549</td>\n",
       "      <td>160.940322</td>\n",
       "    </tr>\n",
       "    <tr>\n",
       "      <th>10</th>\n",
       "      <td>2021</td>\n",
       "      <td>1055.406977</td>\n",
       "      <td>667.732558</td>\n",
       "      <td>1.784884</td>\n",
       "      <td>27.587209</td>\n",
       "      <td>197801.514535</td>\n",
       "      <td>197.801515</td>\n",
       "    </tr>\n",
       "  </tbody>\n",
       "</table>\n",
       "</div>"
      ],
      "text/plain": [
       "    year       raceId    driverId      stop        lap   milliseconds  \\\n",
       "0   2011   849.680431  219.649910  1.947038  27.572711   24448.849192   \n",
       "1   2012   868.778013  326.889006  1.739958  25.416490   23283.769556   \n",
       "2   2013   888.593060  461.409043  1.855941  25.309148   24121.318612   \n",
       "3   2014   909.029412  456.474265  1.754902  24.678922   55088.632353   \n",
       "4   2015   935.900135  505.113360  1.801619  27.109312   25500.213225   \n",
       "5   2016   957.864510  544.389282  1.823054  22.561173  124357.194135   \n",
       "6   2017   978.353026  586.048991  1.914986  19.799712   56789.619597   \n",
       "7   2018   998.692164  636.968284  1.332090  25.369403   24674.283582   \n",
       "8   2019  1020.086287  618.389831  1.520801  26.211094   24870.613251   \n",
       "9   2020  1039.163300  674.471380  1.712121  26.984848  160940.321549   \n",
       "10  2021  1055.406977  667.732558  1.784884  27.587209  197801.514535   \n",
       "\n",
       "    Avg Duration in Seconds  \n",
       "0                 24.448849  \n",
       "1                 23.283770  \n",
       "2                 24.121319  \n",
       "3                 55.088632  \n",
       "4                 25.500213  \n",
       "5                124.357194  \n",
       "6                 56.789620  \n",
       "7                 24.674284  \n",
       "8                 24.870613  \n",
       "9                160.940322  \n",
       "10               197.801515  "
      ]
     },
     "execution_count": 28,
     "metadata": {},
     "output_type": "execute_result"
    }
   ],
   "source": [
    "# Average duration\n",
    "df_pit_stops = pit_stops.merge(race_years, on='raceId', how='left')\n",
    "df_pit_stops_duration = df_pit_stops.groupby(['year']).mean().reset_index()\n",
    "df_pit_stops_duration['Avg Duration in Seconds'] = df_pit_stops_duration['milliseconds'] / 1000 \n",
    "df_pit_stops_duration"
   ]
  },
  {
   "cell_type": "code",
   "execution_count": 31,
   "metadata": {},
   "outputs": [
    {
     "data": {
      "text/plain": [
       "Text(0.5, 1.0, 'Average Pit Stop Duration over Time')"
      ]
     },
     "execution_count": 31,
     "metadata": {},
     "output_type": "execute_result"
    },
    {
     "data": {
      "image/png": "[encoded data removed]",
      "text/plain": [
       "<Figure size 432x288 with 1 Axes>"
      ]
     },
     "metadata": {
      "needs_background": "light"
     },
     "output_type": "display_data"
    }
   ],
   "source": [
    "sns.lineplot(x=df_pit_stops_duration['year'], y=df_pit_stops_duration['Avg Duration in Seconds']).set_title(\"Average Pit Stop Duration over Time\")"
   ]
  },
  {
   "cell_type": "markdown",
   "metadata": {},
   "source": [
    "We see here some really high peaks, which are hard to explain, especially as we are talking about the average. When looking into the data behind we see, that there is an issue with the formating, that is not the same for every record. This causes the problem and we will take care of this in the Data Pipeline."
   ]
  },
  {
   "cell_type": "markdown",
   "metadata": {},
   "source": [
    "# Average number of Stops per Race per Season"
   ]
  },
  {
   "cell_type": "code",
   "execution_count": 33,
   "metadata": {},
   "outputs": [
    {
     "data": {
      "text/html": [
       "<div>\n",
       "<style scoped>\n",
       "    .dataframe tbody tr th:only-of-type {\n",
       "        vertical-align: middle;\n",
       "    }\n",
       "\n",
       "    .dataframe tbody tr th {\n",
       "        vertical-align: top;\n",
       "    }\n",
       "\n",
       "    .dataframe thead th {\n",
       "        text-align: right;\n",
       "    }\n",
       "</style>\n",
       "<table border=\"1\" class=\"dataframe\">\n",
       "  <thead>\n",
       "    <tr style=\"text-align: right;\">\n",
       "      <th></th>\n",
       "      <th>year</th>\n",
       "      <th>raceId</th>\n",
       "      <th>driverId</th>\n",
       "      <th>stop</th>\n",
       "      <th>lap</th>\n",
       "      <th>milliseconds</th>\n",
       "      <th>avg_stops_per_race</th>\n",
       "    </tr>\n",
       "  </thead>\n",
       "  <tbody>\n",
       "    <tr>\n",
       "      <th>0</th>\n",
       "      <td>2011</td>\n",
       "      <td>849.979021</td>\n",
       "      <td>225.608392</td>\n",
       "      <td>2.596737</td>\n",
       "      <td>39.477855</td>\n",
       "      <td>27492.722611</td>\n",
       "      <td>2.596737</td>\n",
       "    </tr>\n",
       "    <tr>\n",
       "      <th>1</th>\n",
       "      <td>2012</td>\n",
       "      <td>869.442953</td>\n",
       "      <td>329.574944</td>\n",
       "      <td>2.116331</td>\n",
       "      <td>34.908277</td>\n",
       "      <td>24396.982103</td>\n",
       "      <td>2.116331</td>\n",
       "    </tr>\n",
       "    <tr>\n",
       "      <th>2</th>\n",
       "      <td>2013</td>\n",
       "      <td>889.513716</td>\n",
       "      <td>457.650873</td>\n",
       "      <td>2.371571</td>\n",
       "      <td>36.301746</td>\n",
       "      <td>26190.623441</td>\n",
       "      <td>2.371571</td>\n",
       "    </tr>\n",
       "    <tr>\n",
       "      <th>3</th>\n",
       "      <td>2014</td>\n",
       "      <td>908.917989</td>\n",
       "      <td>458.838624</td>\n",
       "      <td>2.161376</td>\n",
       "      <td>34.505291</td>\n",
       "      <td>90976.293651</td>\n",
       "      <td>2.161376</td>\n",
       "    </tr>\n",
       "    <tr>\n",
       "      <th>4</th>\n",
       "      <td>2015</td>\n",
       "      <td>935.703170</td>\n",
       "      <td>499.657061</td>\n",
       "      <td>2.135447</td>\n",
       "      <td>35.386167</td>\n",
       "      <td>27515.438040</td>\n",
       "      <td>2.135447</td>\n",
       "    </tr>\n",
       "    <tr>\n",
       "      <th>5</th>\n",
       "      <td>2016</td>\n",
       "      <td>958.048724</td>\n",
       "      <td>543.958237</td>\n",
       "      <td>2.294664</td>\n",
       "      <td>31.821346</td>\n",
       "      <td>193524.948956</td>\n",
       "      <td>2.294664</td>\n",
       "    </tr>\n",
       "    <tr>\n",
       "      <th>6</th>\n",
       "      <td>2017</td>\n",
       "      <td>978.605042</td>\n",
       "      <td>585.392157</td>\n",
       "      <td>1.943978</td>\n",
       "      <td>29.680672</td>\n",
       "      <td>88961.081232</td>\n",
       "      <td>1.943978</td>\n",
       "    </tr>\n",
       "    <tr>\n",
       "      <th>7</th>\n",
       "      <td>2018</td>\n",
       "      <td>999.057592</td>\n",
       "      <td>627.853403</td>\n",
       "      <td>1.403141</td>\n",
       "      <td>29.272251</td>\n",
       "      <td>25313.510471</td>\n",
       "      <td>1.403141</td>\n",
       "    </tr>\n",
       "    <tr>\n",
       "      <th>8</th>\n",
       "      <td>2019</td>\n",
       "      <td>1019.960880</td>\n",
       "      <td>631.921760</td>\n",
       "      <td>1.591687</td>\n",
       "      <td>30.449878</td>\n",
       "      <td>25811.205379</td>\n",
       "      <td>1.591687</td>\n",
       "    </tr>\n",
       "    <tr>\n",
       "      <th>9</th>\n",
       "      <td>2020</td>\n",
       "      <td>1039.102236</td>\n",
       "      <td>678.246006</td>\n",
       "      <td>1.897764</td>\n",
       "      <td>33.878594</td>\n",
       "      <td>235613.910543</td>\n",
       "      <td>1.897764</td>\n",
       "    </tr>\n",
       "    <tr>\n",
       "      <th>10</th>\n",
       "      <td>2021</td>\n",
       "      <td>1056.011765</td>\n",
       "      <td>667.741176</td>\n",
       "      <td>2.023529</td>\n",
       "      <td>36.323529</td>\n",
       "      <td>373202.070588</td>\n",
       "      <td>2.023529</td>\n",
       "    </tr>\n",
       "  </tbody>\n",
       "</table>\n",
       "</div>"
      ],
      "text/plain": [
       "    year       raceId    driverId      stop        lap   milliseconds  \\\n",
       "0   2011   849.979021  225.608392  2.596737  39.477855   27492.722611   \n",
       "1   2012   869.442953  329.574944  2.116331  34.908277   24396.982103   \n",
       "2   2013   889.513716  457.650873  2.371571  36.301746   26190.623441   \n",
       "3   2014   908.917989  458.838624  2.161376  34.505291   90976.293651   \n",
       "4   2015   935.703170  499.657061  2.135447  35.386167   27515.438040   \n",
       "5   2016   958.048724  543.958237  2.294664  31.821346  193524.948956   \n",
       "6   2017   978.605042  585.392157  1.943978  29.680672   88961.081232   \n",
       "7   2018   999.057592  627.853403  1.403141  29.272251   25313.510471   \n",
       "8   2019  1019.960880  631.921760  1.591687  30.449878   25811.205379   \n",
       "9   2020  1039.102236  678.246006  1.897764  33.878594  235613.910543   \n",
       "10  2021  1056.011765  667.741176  2.023529  36.323529  373202.070588   \n",
       "\n",
       "    avg_stops_per_race  \n",
       "0             2.596737  \n",
       "1             2.116331  \n",
       "2             2.371571  \n",
       "3             2.161376  \n",
       "4             2.135447  \n",
       "5             2.294664  \n",
       "6             1.943978  \n",
       "7             1.403141  \n",
       "8             1.591687  \n",
       "9             1.897764  \n",
       "10            2.023529  "
      ]
     },
     "execution_count": 33,
     "metadata": {},
     "output_type": "execute_result"
    }
   ],
   "source": [
    "# Aveage number of stops\n",
    "df_pit_stops_number = df_pit_stops.groupby(['raceId','driverId']).max().reset_index()\n",
    "df_pit_stops_number = df_pit_stops_number.groupby(['year']).mean().reset_index()\n",
    "df_pit_stops_number['avg_stops_per_race'] = df_pit_stops_number['stop']\n",
    "df_pit_stops_number"
   ]
  },
  {
   "cell_type": "code",
   "execution_count": 34,
   "metadata": {},
   "outputs": [
    {
     "data": {
      "text/plain": [
       "Text(0.5, 1.0, 'Average number of Stops per Race per Season')"
      ]
     },
     "execution_count": 34,
     "metadata": {},
     "output_type": "execute_result"
    },
    {
     "data": {
      "image/png": "[encoded data removed]",
      "text/plain": [
       "<Figure size 432x288 with 1 Axes>"
      ]
     },
     "metadata": {
      "needs_background": "light"
     },
     "output_type": "display_data"
    }
   ],
   "source": [
    "sns.lineplot(x=df_pit_stops_number['year'], y=df_pit_stops_number['avg_stops_per_race']).set_title('Average number of Stops per Race per Season')"
   ]
  },
  {
   "cell_type": "markdown",
   "metadata": {},
   "source": [
    "## Number of Collisions (Driver could not finish race) per Year"
   ]
  },
  {
   "cell_type": "code",
   "execution_count": 35,
   "metadata": {},
   "outputs": [],
   "source": [
    "df_results = df_results.merge(status, on=\"statusId\", how='left')"
   ]
  },
  {
   "cell_type": "code",
   "execution_count": 36,
   "metadata": {},
   "outputs": [],
   "source": [
    "df_results_col = df_results[(df_results['status']=='Collision') | (df_results['status']=='Collision damage')]\n",
    "df_results_col = df_results_col.groupby(['year']).count().reset_index()"
   ]
  },
  {
   "cell_type": "code",
   "execution_count": 42,
   "metadata": {},
   "outputs": [
    {
     "data": {
      "text/plain": [
       "Text(0, 0.5, 'Number of Collisions')"
      ]
     },
     "execution_count": 42,
     "metadata": {},
     "output_type": "execute_result"
    },
    {
     "data": {
      "image/png": "[encoded data removed]",
      "text/plain": [
       "<Figure size 432x288 with 1 Axes>"
      ]
     },
     "metadata": {
      "needs_background": "light"
     },
     "output_type": "display_data"
    }
   ],
   "source": [
    "sns.lineplot(x=df_results_col['year'], y=df_results_col['status']).set_title('Number of Collisions per Year so Driver could not finish')\n",
    "plt.ylabel('Number of Collisions')"
   ]
  },
  {
   "cell_type": "markdown",
   "metadata": {},
   "source": [
    "Based on this plot it looks like the numbe of collisions increased over time. But taken the number of races per season into account this get relativised."
   ]
  },
  {
   "cell_type": "markdown",
   "metadata": {},
   "source": [
    "## Average Number of Lappings in a Race per Season"
   ]
  },
  {
   "cell_type": "code",
   "execution_count": 47,
   "metadata": {},
   "outputs": [
    {
     "name": "stderr",
     "output_type": "stream",
     "text": [
      "/var/folders/86/jj_j7bm56glckk9r2cy1875h0000gn/T/ipykernel_27000/2894694879.py:2: SettingWithCopyWarning: \n",
      "A value is trying to be set on a copy of a slice from a DataFrame.\n",
      "Try using .loc[row_indexer,col_indexer] = value instead\n",
      "\n",
      "See the caveats in the documentation: https://pandas.pydata.org/pandas-docs/stable/user_guide/indexing.html#returning-a-view-versus-a-copy\n",
      "  df_results_lap['Laps behind'] = df_results_lap['status'].str[1:-4].astype(int)\n"
     ]
    }
   ],
   "source": [
    "df_results_lap = df_results[df_results['status'].str.startswith('+')]\n",
    "df_results_lap['Laps behind'] = df_results_lap['status'].str[1:-4].astype(int)\n",
    "df_lapings_seas = df_results_lap.groupby('raceId').sum().reset_index()[['raceId', 'Laps behind']].rename({'Laps behind':'Avg Laps behind'})\n",
    "df_results_lap = df_results_lap[['year', 'raceId']].merge(df_lapings_seas, on='raceId', how='left')\n",
    "df_results_lap = df_results_lap.drop_duplicates()\n",
    "df_results_lap = df_results_lap.groupby('year').mean().reset_index()"
   ]
  },
  {
   "cell_type": "code",
   "execution_count": 49,
   "metadata": {},
   "outputs": [
    {
     "data": {
      "text/plain": [
       "Text(0, 0.5, '')"
      ]
     },
     "execution_count": 49,
     "metadata": {},
     "output_type": "execute_result"
    },
    {
     "data": {
      "image/png": "[encoded data removed]",
      "text/plain": [
       "<Figure size 432x288 with 1 Axes>"
      ]
     },
     "metadata": {
      "needs_background": "light"
     },
     "output_type": "display_data"
    }
   ],
   "source": [
    "sns.lineplot(x=race_winners['year'],y=race_winners['#ofDrivers'])\n",
    "sns.lineplot(x=df_results_lap['year'],y=df_results_lap['Laps behind'], color=\"r\").set_title('Number Lappings and Drivers over Time')\n",
    "plt.legend(labels=['# of Drivers', 'Total Lappings per Race'])\n",
    "plt.ylabel('')"
   ]
  },
  {
   "cell_type": "markdown",
   "metadata": {},
   "source": [
    "## How did the max speed evolved"
   ]
  },
  {
   "cell_type": "code",
   "execution_count": 122,
   "metadata": {},
   "outputs": [],
   "source": [
    "df_results_speed = df_results.groupby('year').mean().reset_index()"
   ]
  },
  {
   "cell_type": "code",
   "execution_count": 123,
   "metadata": {},
   "outputs": [
    {
     "data": {
      "text/plain": [
       "Text(0.5, 1.0, 'Average Season-Race Top Speed over Time')"
      ]
     },
     "execution_count": 123,
     "metadata": {},
     "output_type": "execute_result"
    },
    {
     "data": {
      "image/png": "[encoded data removed]",
      "text/plain": [
       "<Figure size 432x288 with 1 Axes>"
      ]
     },
     "metadata": {},
     "output_type": "display_data"
    }
   ],
   "source": [
    "sns.lineplot(x=df_results_speed['year'], y=df_results_speed['fastestLapSpeed']).set_title('Average Season-Race Top Speed over Time')"
   ]
  },
  {
   "cell_type": "markdown",
   "metadata": {},
   "source": [
    "# Data Analysis Pipeline\n",
    "As I am planning to conduct analysis on how exciting a race has been, my Pipeline will focus on enriching the race table with new data from the other tables. I am going to collect data in order to include these characteristics:\n",
    "- How many Overtakes occured in the race\n",
    "- Was the race close at the top (time difference between 1st and 2nd and average time difference between first 10 drivers)\n",
    "- Highest speed of the race\n",
    "- Was this race faster then the previous races on this track (fastest lap compared to track record till date)\n",
    "- Does the race have a tradition (how many races have been taken place here)\n",
    "- Is the driver championship exciting?\n",
    "- Is the constructors championship exciting?\n",
    "- Average pitstop time\n",
    "\n",
    "Besides these criteria, I am planning to include the following information to provide the reader with extra information:\n",
    "- Date of the Race\n",
    "- Location\n",
    "- Race Winner + 2nd and 3rd\n",
    "- Constructors Winner\n",
    "- Leader of Drivers Championship at this point\n",
    "- Leader of Constructors Championship at this point\n",
    "- Pole Position\n"
   ]
  },
  {
   "cell_type": "markdown",
   "metadata": {},
   "source": [
    "## Import Packages for Data Analysis Pipeline"
   ]
  },
  {
   "cell_type": "code",
   "execution_count": 274,
   "metadata": {},
   "outputs": [],
   "source": [
    "import numpy as np\n",
    "import pandas as pd\n",
    "import matplotlib.pyplot as plt\n",
    "import seaborn as sns\n",
    "import datetime as dt"
   ]
  },
  {
   "cell_type": "markdown",
   "metadata": {},
   "source": [
    "## 1. Load Data"
   ]
  },
  {
   "cell_type": "code",
   "execution_count": 275,
   "metadata": {},
   "outputs": [],
   "source": [
    "circuits = pd.read_csv('../data/raw/circuits.csv')\n",
    "constructor_res = pd.read_csv('../data/raw/constructor_results.csv')\n",
    "constructor_stand = pd.read_csv('../data/raw/constructor_standings.csv')\n",
    "constructors = pd.read_csv('../data/raw/constructors.csv')\n",
    "driver_stand = pd.read_csv('../data/raw/driver_standings.csv')\n",
    "drivers = pd.read_csv('../data/raw/drivers.csv')\n",
    "lap_times = pd.read_csv('../data/raw/lap_times.csv')\n",
    "pit_stops = pd.read_csv('../data/raw/pit_stops.csv')\n",
    "qualifying = pd.read_csv('../data/raw/qualifying.csv')\n",
    "races = pd.read_csv('../data/raw/races.csv')\n",
    "results = pd.read_csv('../data/raw/results.csv')\n",
    "seasons = pd.read_csv('../data/raw/seasons.csv')\n",
    "status = pd.read_csv('../data/raw/status.csv')"
   ]
  },
  {
   "cell_type": "markdown",
   "metadata": {},
   "source": [
    "## 2. Clean Data\n",
    "Replace the not available data which are marked wit \\N in the csv files with np.nan to deal with missing values properly"
   ]
  },
  {
   "cell_type": "code",
   "execution_count": 276,
   "metadata": {},
   "outputs": [],
   "source": [
    "circuits = circuits.replace('\\\\N',np.nan)\n",
    "constructor_res = constructor_res.replace('\\\\N',np.nan)\n",
    "constructor_stand = constructor_stand.replace('\\\\N',np.nan)\n",
    "constructors = constructors.replace('\\\\N',np.nan)\n",
    "driver_stand = driver_stand.replace('\\\\N',np.nan)\n",
    "drivers = drivers.replace('\\\\N',np.nan)\n",
    "lap_times = lap_times.replace('\\\\N',np.nan)\n",
    "pit_stops = pit_stops.replace('\\\\N',np.nan)\n",
    "qualifying = qualifying.replace('\\\\N',np.nan)\n",
    "races = races.replace('\\\\N',np.nan)\n",
    "results = results.replace('\\\\N',np.nan)\n",
    "seasons = seasons.replace('\\\\N',np.nan)\n",
    "status = status.replace('\\\\N',np.nan)\n",
    "\n",
    "# Take care of the pitstop time issue we identified in the EDA\n",
    "pit_stops['duration'] = pit_stops['duration'].apply(lambda x: float(x.split(':')[1]) if ':' in x else float(x))\n",
    "\n",
    "# Adjust datatype for fastest speed\n",
    "results['fastestLapSpeed'] = results['fastestLapSpeed'].apply(lambda x: float(x))\n",
    "\n",
    "# Adjust Time format of fastest lap to be seconds\n",
    "results['fastestLapTime'] = results['fastestLapTime'].apply(lambda x: float(x.split(':')[0])*60+float(x.split(':')[1]) if type(x)==str else x) "
   ]
  },
  {
   "cell_type": "markdown",
   "metadata": {},
   "source": [
    "## 3. Process Data"
   ]
  },
  {
   "cell_type": "code",
   "execution_count": 277,
   "metadata": {},
   "outputs": [],
   "source": [
    "# Bring races date into date format and drop time\n",
    "races['date'] = pd.to_datetime(races['date'], infer_datetime_format=True) \n",
    "races = races.drop(columns='time')\n",
    "\n",
    "# Build drivers name and delete not needed columns\n",
    "drivers['Driver Name'] = drivers['forename'] + ' ' +  drivers['surname']\n",
    "drivers = drivers[['driverId', 'Driver Name']]\n",
    "\n",
    "# Delete not needed columns from the constructors table\n",
    "constructors = constructors[['constructorId', 'name']].rename(columns={'name': 'Team Name'})\n",
    "\n",
    "# Delete not needed data from constructors results\n",
    "constructor_res = constructor_res[['raceId', 'constructorId','points']]\n",
    "\n",
    "# Delete not needed columns from qualifiying table and select only pole sitters\n",
    "qualifying = qualifying[qualifying['position']==1][['raceId','driverId']]\n",
    "\n",
    "# Delete not needed columns form drivers standing\n",
    "driver_stand = driver_stand[['raceId', 'driverId', 'points', 'position']]\n",
    "\n",
    "# Delete not needed Data from Constructors Standing\n",
    "constructor_stand = constructor_stand[['raceId', 'constructorId', 'points', 'position']]\n",
    "\n",
    "# Delete not needed columns from circuits\n",
    "circuits = circuits[['circuitId', 'name', 'location']].rename(columns={'name':'Circuit Name', 'location':'City'})\n",
    "\n",
    "# Delete not needed Data from Pitstop times\n",
    "pit_stops = pit_stops.drop(columns=['driverId', 'stop', 'lap', 'time', 'milliseconds']).rename(columns={'duration':'avg. Pitstop Duration (in s)'})"
   ]
  },
  {
   "cell_type": "markdown",
   "metadata": {},
   "source": [
    "## 4. Wrangle Data"
   ]
  },
  {
   "cell_type": "code",
   "execution_count": 278,
   "metadata": {},
   "outputs": [],
   "source": [
    "# expand results with year and circuitId for further wrangling\n",
    "results = results.merge(races[['raceId', 'year', 'circuitId']], on='raceId', how='left')\n",
    "\n",
    "# add Driver Name to results\n",
    "results = results.merge(drivers, how='left', on='driverId')\n",
    "\n",
    "# Add Track Information to the races dataframe\n",
    "races = races.merge(circuits, how='left', on='circuitId')\n",
    "\n",
    "# add Team Name to results\n",
    "results = results.merge(constructors, how='left', on='constructorId')\n",
    "\n",
    "# Add Winner to races (driver and its Team)\n",
    "races = races.merge(results[['raceId', 'Driver Name', 'Team Name', 'positionOrder']], how='left', on='raceId')\n",
    "races = races[races['positionOrder']==1].rename(columns={'Driver Name': '1st Driver Name','Team Name': '1st Team Name'}).drop(columns='positionOrder').drop_duplicates(subset=['year', 'raceId'])\n",
    "\n",
    "# Add 2nd Place to races (driver and its Team)\n",
    "races = races.merge(results[['raceId', 'Driver Name', 'Team Name', 'positionOrder']], how='left', on='raceId')\n",
    "races = races[races['positionOrder']==2].rename(columns={'Driver Name': '2nd Driver Name','Team Name': '2nd Team Name'}).drop(columns='positionOrder').drop_duplicates(subset=['year', 'raceId'])\n",
    "\n",
    "# Add 3rd Place to races (driver and its Team)\n",
    "races = races.merge(results[['raceId', 'Driver Name', 'Team Name', 'positionOrder']], how='left', on='raceId')\n",
    "races = races[races['positionOrder']==3].rename(columns={'Driver Name': '3rd Driver Name','Team Name': '3rd Team Name'}).drop(columns='positionOrder').drop_duplicates(subset=['year', 'raceId'])\n",
    "\n",
    "# Add Constructors Name to constructor results and the the races Winner to Races\n",
    "constructor_res = constructor_res.merge(constructors, how='left', on='constructorId')\n",
    "constructors_winners = constructor_res.groupby(['raceId']).max().reset_index()[['raceId', 'points']]\n",
    "constructors_winners = constructors_winners.merge(constructor_res, how='left', on=['raceId', 'points'])[['raceId', 'Team Name']].rename(columns={'Team Name': 'Constructors Winner'})\n",
    "races = races.merge(constructors_winners, how='left', on='raceId').drop_duplicates()\n",
    "\n",
    "# Add name to qualifying table and merge pole sitter into races\n",
    "qualifying = qualifying.merge(drivers, how='left', on='driverId').drop(columns='driverId').rename(columns={'Driver Name': 'Pole Sitter'})\n",
    "races = races.merge(qualifying, how='left', on='raceId').drop_duplicates()\n",
    "\n",
    "# Add driver names to driver standing and merge current leader to races (leader after race)\n",
    "driver_stand = driver_stand.merge(drivers, how='left', on='driverId').drop(columns='driverId')\n",
    "races = races.merge(driver_stand[driver_stand['position']==1][['raceId', 'Driver Name']], how='left', on='raceId').rename(columns={'Driver Name':'Championship Leader (after Race)'}).drop_duplicates(subset=['year', 'raceId'])\n",
    "\n",
    "# Add Team names to Constructors Championship and merge leader to races\n",
    "constructor_stand = constructor_stand.merge(constructors, how='left', on='constructorId')\n",
    "races = races.merge(constructor_stand[constructor_stand['position']==1][['raceId', 'Team Name']], how='left', on='raceId').rename(columns={'Team Name':'Constructors Leader (after Race)'}).drop_duplicates(subset=['year', 'raceId'])\n",
    "\n",
    "# Add leaders (constructors and drivers) before the race (Sort all the races by date and get the leader after the previous race, add prev race Id column to do so)\n",
    "prevLeaders = races[['year', 'round', 'Championship Leader (after Race)', 'Constructors Leader (after Race)']].rename(columns={'Championship Leader (before Race)':'Constructors Leader (before Race)'})\n",
    "races['prev_round'] = races['round']-1\n",
    "races = races.merge(prevLeaders, how='left', left_on=['year', 'prev_round'], right_on=['year', 'round']).drop(columns={'prev_round', 'round_y'}).rename(columns={'round_x':'round'}).drop_duplicates(subset=['year', 'raceId'])\n",
    "\n",
    "# Find average pit stop duration and it to races\n",
    "pit_stops = pit_stops.groupby(['raceId']).mean().reset_index()\n",
    "races = races.merge(pit_stops, how='left', on='raceId').drop_duplicates(subset=['year', 'raceId'])\n",
    "\n",
    "# Find difference between first and second and merge into races\n",
    "diff_1_2 = results[results['positionOrder']==2][['raceId', 'time']].rename(columns={'time':'Difference 1st to 2nd (in s)'})\n",
    "races = races.merge(diff_1_2[['raceId', 'Difference 1st to 2nd (in s)']], how='left', on='raceId').drop_duplicates(subset=['year', 'raceId'])\n",
    "races['Difference 1st to 2nd (in s)'] = races['Difference 1st to 2nd (in s)'].apply(lambda x: x.strip(' sec') if type(x)==str else x)\n",
    "races['Difference 1st to 2nd (in s)'] = races['Difference 1st to 2nd (in s)'].apply(lambda x: float(x[1:].split(':')[0])*60+float(x[1:].split(':')[1]) if (type(x)==str and ':'in x) else(float(x[1:].split(':')[0]) if type(x)==str else x))\n",
    "\n",
    "# Find difference avg time difference between first 5 drivers and merge into races\n",
    "diff_1_10 = results[results['positionOrder']==10][['raceId', 'time']].rename(columns={'time':'avg. Difference Top 5 (in s)'})\n",
    "races = races.merge(diff_1_10[['raceId', 'avg. Difference Top 5 (in s)']], how='left', on='raceId').drop_duplicates(subset=['year', 'raceId'])\n",
    "races['avg. Difference Top 5 (in s)'] = races['avg. Difference Top 5 (in s)'].apply(lambda x: float(x[1:].split(':')[0])*60+float(x[1:].split(':')[1]) if (type(x)==str and ':'in x) else(float(x[1:].split(':')[0]) if type(x)==str else x))\n",
    "races['avg. Difference Top 5 (in s)'] = races['avg. Difference Top 5 (in s)'] / 4\n",
    "\n",
    "# Find the races highspeed and merge it into races\n",
    "highspeeds = results[['raceId', 'fastestLapSpeed']].groupby(['raceId']).max().reset_index()\n",
    "races = races.merge(highspeeds, how='left', on='raceId').drop_duplicates(subset=['year', 'raceId']).rename(columns={'fastestLapSpeed':'Top Speed of the Race'})\n",
    "\n",
    "\n",
    "def count_overtakes(raceId, df):\n",
    "    '''Function to count the number of overtakes in a race, given the raceid and the laptime dataframe'''\n",
    "\n",
    "    records = df[df['raceId']==raceId][['driverId', 'lap', 'position']]\n",
    "    records_lat = records.rename(columns={'position':'position_after_round'})\n",
    "    records_lat['lap'] = records_lat['lap'] + 1\n",
    "    records = records.merge(records_lat, how='left',on=['driverId','lap'])\n",
    "    records['overtakes'] = records['position'] - records['position_after_round']     \n",
    "    records['overtakes'] = records['overtakes'].apply(lambda x: -x if x<0 else 0)\n",
    "    return records['overtakes'].sum()\n",
    "\n",
    "# Calculate the number of overtakes and include it into races\n",
    "races['approx. Number of Overtakes'] = races['raceId'].apply(lambda x: count_overtakes(x, lap_times))\n",
    "\n",
    "def count_prev_races(data, df):\n",
    "    year = int(data.split(',')[0])\n",
    "    circuitId = int(data.split(',')[1])\n",
    "    return len(df[(df['year']<year)&(df['circuitId']==circuitId)])\n",
    "\n",
    "# Include how often formula 1 raced on this track before\n",
    "races['Number of prev. F1 Races'] = races['year'].astype(str) + ',' + races['circuitId'].astype(str)\n",
    "races['Number of prev. F1 Races'] = races['Number of prev. F1 Races'].apply(lambda x: count_prev_races(x,races))\n",
    "\n",
    "# Include fastest Lap Time\n",
    "fastest_lap = results[['raceId', 'fastestLapTime']].groupby(['raceId']).min().reset_index()\n",
    "races = races.merge(fastest_lap, how='left', on='raceId').drop_duplicates(subset=['year', 'raceId']).rename(columns={'fastestLapTime': 'Fastest Lap of the Race'})\n",
    "\n",
    "def lap_record_to_date(data, df):\n",
    "    year = int(data.split(',')[0])\n",
    "    circuitId = int(data.split(',')[1])\n",
    "    df = df[(df['year']<year)&(df['circuitId']==circuitId)]\n",
    "    return df['fastestLapTime'].min()\n",
    "\n",
    "# Include Lap record to date\n",
    "races['Lap record to Date'] = races['year'].astype(str) + ',' + races['circuitId'].astype(str)\n",
    "races['Lap record to Date'] = races['Lap record to Date'].apply(lambda x: lap_record_to_date(x,results))\n",
    "\n",
    "# Include the difference in the driver championship between first and second\n",
    "driver_stand_leader = driver_stand[driver_stand['position']==1][['raceId', 'points']].rename(columns={'points':'points1'})\n",
    "driver_stand_second = driver_stand[driver_stand['position']==2][['raceId', 'points']].rename(columns={'points':'points2'})\n",
    "driver_stand_difference = driver_stand_leader.merge(driver_stand_second, how='left', on='raceId')\n",
    "driver_stand_difference['Driver Championship Point Difference'] = driver_stand_difference['points1']-driver_stand_difference['points2']\n",
    "races = races.merge(driver_stand_difference[['raceId', 'Driver Championship Point Difference']], how='left', on='raceId').drop_duplicates(subset=['year', 'raceId'])\n",
    "\n",
    "# Include the difference in the constructors championship between first and second\n",
    "const_stand_leader = constructor_stand[constructor_stand['position']==1][['raceId', 'points']].rename(columns={'points':'points1'})\n",
    "const_stand_second = constructor_stand[constructor_stand['position']==2][['raceId', 'points']].rename(columns={'points':'points2'})\n",
    "const_stand_difference = const_stand_leader.merge(const_stand_second, how='left', on='raceId')\n",
    "const_stand_difference['Constructors Championship Point Difference'] = const_stand_difference['points1']-const_stand_difference['points2']\n",
    "races = races.merge(const_stand_difference[['raceId', 'Constructors Championship Point Difference']], how='left', on='raceId').drop_duplicates(subset=['year', 'raceId'])\n",
    "\n",
    "# Save races into processed date folder\n",
    "races.to_csv('../data/processed/Niklas_Processed/races.csv')\n"
   ]
  },
  {
   "cell_type": "code",
   "execution_count": null,
   "metadata": {},
   "outputs": [],
   "source": [
    "\n",
    "\n"
   ]
  },
  {
   "cell_type": "code",
   "execution_count": null,
   "metadata": {},
   "outputs": [],
   "source": []
  }
 ],
 "metadata": {
  "interpreter": {
   "hash": "54709ba92b89cd0ace5027c76d950cbda5ed449c99b8a13d7fb9db9c0a3b5169"
  },
  "kernelspec": {
   "display_name": "Python 3.9.7 64-bit ('data301': conda)",
   "name": "python3"
  },
  "language_info": {
   "codemirror_mode": {
    "name": "ipython",
    "version": 3
   },
   "file_extension": ".py",
   "mimetype": "text/x-python",
   "name": "python",
   "nbconvert_exporter": "python",
   "pygments_lexer": "ipython3",
   "version": "3.9.7"
  }
 },
 "nbformat": 4,
 "nbformat_minor": 4
}
